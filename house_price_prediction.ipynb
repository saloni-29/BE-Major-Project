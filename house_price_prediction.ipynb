{
 "cells": [
  {
   "cell_type": "markdown",
   "metadata": {},
   "source": [
    "# House Price Prediction using Machine Learning"
   ]
  },
  {
   "cell_type": "code",
   "execution_count": 5,
   "metadata": {},
   "outputs": [],
   "source": [
    "#importing libraries\n",
    "import pandas as pd\n",
    "import numpy as np\n",
    "import seaborn as sns\n",
    "from matplotlib import pyplot as plt\n",
    "%matplotlib inline\n",
    "import matplotlib\n",
    "matplotlib.rcParams[\"figure.figsize\"] = (20,10)"
   ]
  },
  {
   "cell_type": "markdown",
   "metadata": {},
   "source": [
    "### Loading Dataset"
   ]
  },
  {
   "cell_type": "code",
   "execution_count": 23,
   "metadata": {},
   "outputs": [
    {
     "data": {
      "text/html": [
       "<div>\n",
       "<style scoped>\n",
       "    .dataframe tbody tr th:only-of-type {\n",
       "        vertical-align: middle;\n",
       "    }\n",
       "\n",
       "    .dataframe tbody tr th {\n",
       "        vertical-align: top;\n",
       "    }\n",
       "\n",
       "    .dataframe thead th {\n",
       "        text-align: right;\n",
       "    }\n",
       "</style>\n",
       "<table border=\"1\" class=\"dataframe\">\n",
       "  <thead>\n",
       "    <tr style=\"text-align: right;\">\n",
       "      <th></th>\n",
       "      <th>area</th>\n",
       "      <th>bathroom_num</th>\n",
       "      <th>bedroom_num</th>\n",
       "      <th>city</th>\n",
       "      <th>desc</th>\n",
       "      <th>dev_name</th>\n",
       "      <th>floor_count</th>\n",
       "      <th>floor_num</th>\n",
       "      <th>furnishing</th>\n",
       "      <th>id</th>\n",
       "      <th>...</th>\n",
       "      <th>longitude</th>\n",
       "      <th>post_date</th>\n",
       "      <th>poster_name</th>\n",
       "      <th>price</th>\n",
       "      <th>project</th>\n",
       "      <th>title</th>\n",
       "      <th>trans</th>\n",
       "      <th>type</th>\n",
       "      <th>url</th>\n",
       "      <th>user_type</th>\n",
       "    </tr>\n",
       "  </thead>\n",
       "  <tbody>\n",
       "    <tr>\n",
       "      <td>0</td>\n",
       "      <td>350.0</td>\n",
       "      <td>2.0</td>\n",
       "      <td>1</td>\n",
       "      <td>Mumbai</td>\n",
       "      <td>2 Bath,Unfurnished,East facing The project has...</td>\n",
       "      <td>NaN</td>\n",
       "      <td>NaN</td>\n",
       "      <td>NaN</td>\n",
       "      <td>Unfurnished</td>\n",
       "      <td>45349857</td>\n",
       "      <td>...</td>\n",
       "      <td>72.825882</td>\n",
       "      <td>11-01-2020</td>\n",
       "      <td>Saurabh Patil</td>\n",
       "      <td>9000</td>\n",
       "      <td>NaN</td>\n",
       "      <td>1 BHK Apartment for Rent in Malad West</td>\n",
       "      <td>Rent</td>\n",
       "      <td>Apartment</td>\n",
       "      <td>/propertyDetails/1-BHK-350-Sq-ft-Multistorey-A...</td>\n",
       "      <td>Agent</td>\n",
       "    </tr>\n",
       "    <tr>\n",
       "      <td>1</td>\n",
       "      <td>652.0</td>\n",
       "      <td>2.0</td>\n",
       "      <td>1</td>\n",
       "      <td>Mumbai</td>\n",
       "      <td>2 Bath,Semi-Furnished,East facing A 1BHK apart...</td>\n",
       "      <td>Veena Group</td>\n",
       "      <td>NaN</td>\n",
       "      <td>NaN</td>\n",
       "      <td>Semi-Furnished</td>\n",
       "      <td>45960973</td>\n",
       "      <td>...</td>\n",
       "      <td>72.833592</td>\n",
       "      <td>11-01-2020</td>\n",
       "      <td>Gorakh  Chavan</td>\n",
       "      <td>8060</td>\n",
       "      <td>Veena Dynasty</td>\n",
       "      <td>1 BHK Apartment for Rent in Veena Dynasty, Vasai</td>\n",
       "      <td>Rent</td>\n",
       "      <td>Apartment</td>\n",
       "      <td>/propertyDetails/1-BHK-652-Sq-ft-Multistorey-A...</td>\n",
       "      <td>Agent</td>\n",
       "    </tr>\n",
       "    <tr>\n",
       "      <td>2</td>\n",
       "      <td>635.0</td>\n",
       "      <td>2.0</td>\n",
       "      <td>1</td>\n",
       "      <td>Mumbai</td>\n",
       "      <td>2 Bath,Semi-Furnished,4 floor,West facing A be...</td>\n",
       "      <td>Agarwal Group</td>\n",
       "      <td>7.0</td>\n",
       "      <td>4.0</td>\n",
       "      <td>Semi-Furnished</td>\n",
       "      <td>46688849</td>\n",
       "      <td>...</td>\n",
       "      <td>72.801612</td>\n",
       "      <td>13-12-2019</td>\n",
       "      <td>Lokesh Joshi</td>\n",
       "      <td>8000</td>\n",
       "      <td>Agarwal Lifestyle</td>\n",
       "      <td>1 BHK Apartment for Rent in Agarwal Lifestyle,...</td>\n",
       "      <td>Rent</td>\n",
       "      <td>Apartment</td>\n",
       "      <td>/propertyDetails/1-BHK-635-Sq-ft-Multistorey-A...</td>\n",
       "      <td>Agent</td>\n",
       "    </tr>\n",
       "    <tr>\n",
       "      <td>3</td>\n",
       "      <td>540.0</td>\n",
       "      <td>2.0</td>\n",
       "      <td>1</td>\n",
       "      <td>Mumbai</td>\n",
       "      <td>2 Bath,Semi-Furnished,East facing Essential Se...</td>\n",
       "      <td>NaN</td>\n",
       "      <td>NaN</td>\n",
       "      <td>NaN</td>\n",
       "      <td>Semi-Furnished</td>\n",
       "      <td>44696119</td>\n",
       "      <td>...</td>\n",
       "      <td>72.836006</td>\n",
       "      <td>13-01-2020</td>\n",
       "      <td>Sajith  Thomas</td>\n",
       "      <td>8000</td>\n",
       "      <td>NaN</td>\n",
       "      <td>1 BHK Apartment for Rent in Vasai East</td>\n",
       "      <td>Rent</td>\n",
       "      <td>Apartment</td>\n",
       "      <td>/propertyDetails/1-BHK-540-Sq-ft-Multistorey-A...</td>\n",
       "      <td>Agent</td>\n",
       "    </tr>\n",
       "    <tr>\n",
       "      <td>4</td>\n",
       "      <td>625.0</td>\n",
       "      <td>1.0</td>\n",
       "      <td>1</td>\n",
       "      <td>Mumbai</td>\n",
       "      <td>1 Bath,Furnished,2 floor,North facing 24 hours...</td>\n",
       "      <td>Millennium Group</td>\n",
       "      <td>7.0</td>\n",
       "      <td>2.0</td>\n",
       "      <td>Furnished</td>\n",
       "      <td>46742851</td>\n",
       "      <td>...</td>\n",
       "      <td>72.850167</td>\n",
       "      <td>17-12-2019</td>\n",
       "      <td>Charmaine  Gomez</td>\n",
       "      <td>9000</td>\n",
       "      <td>Mittal Enclave</td>\n",
       "      <td>1 BHK Apartment for Rent in Mittal Enclave, Na...</td>\n",
       "      <td>Rent</td>\n",
       "      <td>Apartment</td>\n",
       "      <td>/propertyDetails/1-BHK-625-Sq-ft-Multistorey-A...</td>\n",
       "      <td>Owner</td>\n",
       "    </tr>\n",
       "  </tbody>\n",
       "</table>\n",
       "<p>5 rows × 23 columns</p>\n",
       "</div>"
      ],
      "text/plain": [
       "    area  bathroom_num  bedroom_num    city  \\\n",
       "0  350.0           2.0            1  Mumbai   \n",
       "1  652.0           2.0            1  Mumbai   \n",
       "2  635.0           2.0            1  Mumbai   \n",
       "3  540.0           2.0            1  Mumbai   \n",
       "4  625.0           1.0            1  Mumbai   \n",
       "\n",
       "                                                desc          dev_name  \\\n",
       "0  2 Bath,Unfurnished,East facing The project has...               NaN   \n",
       "1  2 Bath,Semi-Furnished,East facing A 1BHK apart...       Veena Group   \n",
       "2  2 Bath,Semi-Furnished,4 floor,West facing A be...     Agarwal Group   \n",
       "3  2 Bath,Semi-Furnished,East facing Essential Se...               NaN   \n",
       "4  1 Bath,Furnished,2 floor,North facing 24 hours...  Millennium Group   \n",
       "\n",
       "   floor_count  floor_num      furnishing        id  ...  longitude  \\\n",
       "0          NaN        NaN     Unfurnished  45349857  ...  72.825882   \n",
       "1          NaN        NaN  Semi-Furnished  45960973  ...  72.833592   \n",
       "2          7.0        4.0  Semi-Furnished  46688849  ...  72.801612   \n",
       "3          NaN        NaN  Semi-Furnished  44696119  ...  72.836006   \n",
       "4          7.0        2.0       Furnished  46742851  ...  72.850167   \n",
       "\n",
       "    post_date       poster_name  price            project  \\\n",
       "0  11-01-2020     Saurabh Patil   9000                NaN   \n",
       "1  11-01-2020    Gorakh  Chavan   8060      Veena Dynasty   \n",
       "2  13-12-2019      Lokesh Joshi   8000  Agarwal Lifestyle   \n",
       "3  13-01-2020    Sajith  Thomas   8000                NaN   \n",
       "4  17-12-2019  Charmaine  Gomez   9000     Mittal Enclave   \n",
       "\n",
       "                                               title  trans       type  \\\n",
       "0             1 BHK Apartment for Rent in Malad West   Rent  Apartment   \n",
       "1   1 BHK Apartment for Rent in Veena Dynasty, Vasai   Rent  Apartment   \n",
       "2  1 BHK Apartment for Rent in Agarwal Lifestyle,...   Rent  Apartment   \n",
       "3             1 BHK Apartment for Rent in Vasai East   Rent  Apartment   \n",
       "4  1 BHK Apartment for Rent in Mittal Enclave, Na...   Rent  Apartment   \n",
       "\n",
       "                                                 url user_type  \n",
       "0  /propertyDetails/1-BHK-350-Sq-ft-Multistorey-A...     Agent  \n",
       "1  /propertyDetails/1-BHK-652-Sq-ft-Multistorey-A...     Agent  \n",
       "2  /propertyDetails/1-BHK-635-Sq-ft-Multistorey-A...     Agent  \n",
       "3  /propertyDetails/1-BHK-540-Sq-ft-Multistorey-A...     Agent  \n",
       "4  /propertyDetails/1-BHK-625-Sq-ft-Multistorey-A...     Owner  \n",
       "\n",
       "[5 rows x 23 columns]"
      ]
     },
     "execution_count": 23,
     "metadata": {},
     "output_type": "execute_result"
    }
   ],
   "source": [
    "#reading the data\n",
    "df = pd.read_csv(r'C:\\Users\\saloni\\Desktop\\mumbai.csv')\n",
    "df.head()"
   ]
  },
  {
   "cell_type": "markdown",
   "metadata": {},
   "source": [
    "# understand the data"
   ]
  },
  {
   "cell_type": "code",
   "execution_count": 24,
   "metadata": {},
   "outputs": [
    {
     "data": {
      "text/plain": [
       "(34348, 23)"
      ]
     },
     "execution_count": 24,
     "metadata": {},
     "output_type": "execute_result"
    }
   ],
   "source": [
    "# Get the no of rows and columns\n",
    "df.shape"
   ]
  },
  {
   "cell_type": "code",
   "execution_count": 25,
   "metadata": {},
   "outputs": [
    {
     "name": "stdout",
     "output_type": "stream",
     "text": [
      "<class 'pandas.core.frame.DataFrame'>\n",
      "RangeIndex: 34348 entries, 0 to 34347\n",
      "Data columns (total 23 columns):\n",
      "area            33572 non-null float64\n",
      "bathroom_num    34334 non-null float64\n",
      "bedroom_num     34348 non-null int64\n",
      "city            34348 non-null object\n",
      "desc            34338 non-null object\n",
      "dev_name        17349 non-null object\n",
      "floor_count     31488 non-null float64\n",
      "floor_num       31567 non-null float64\n",
      "furnishing      34338 non-null object\n",
      "id              34348 non-null int64\n",
      "id_string       34348 non-null object\n",
      "latitude        34348 non-null float64\n",
      "locality        34140 non-null object\n",
      "longitude       34348 non-null float64\n",
      "post_date       34348 non-null object\n",
      "poster_name     34347 non-null object\n",
      "price           34348 non-null int64\n",
      "project         20179 non-null object\n",
      "title           34338 non-null object\n",
      "trans           34318 non-null object\n",
      "type            34348 non-null object\n",
      "url             34338 non-null object\n",
      "user_type       34348 non-null object\n",
      "dtypes: float64(6), int64(3), object(14)\n",
      "memory usage: 4.2+ MB\n"
     ]
    }
   ],
   "source": [
    "#Get all the column names\n",
    "df.info()"
   ]
  },
  {
   "cell_type": "code",
   "execution_count": 26,
   "metadata": {},
   "outputs": [
    {
     "data": {
      "text/html": [
       "<div>\n",
       "<style scoped>\n",
       "    .dataframe tbody tr th:only-of-type {\n",
       "        vertical-align: middle;\n",
       "    }\n",
       "\n",
       "    .dataframe tbody tr th {\n",
       "        vertical-align: top;\n",
       "    }\n",
       "\n",
       "    .dataframe thead th {\n",
       "        text-align: right;\n",
       "    }\n",
       "</style>\n",
       "<table border=\"1\" class=\"dataframe\">\n",
       "  <thead>\n",
       "    <tr style=\"text-align: right;\">\n",
       "      <th></th>\n",
       "      <th>area</th>\n",
       "      <th>bathroom_num</th>\n",
       "      <th>bedroom_num</th>\n",
       "      <th>floor_count</th>\n",
       "      <th>floor_num</th>\n",
       "      <th>id</th>\n",
       "      <th>latitude</th>\n",
       "      <th>longitude</th>\n",
       "      <th>price</th>\n",
       "    </tr>\n",
       "  </thead>\n",
       "  <tbody>\n",
       "    <tr>\n",
       "      <td>count</td>\n",
       "      <td>33572.000000</td>\n",
       "      <td>34334.000000</td>\n",
       "      <td>34348.000000</td>\n",
       "      <td>31488.000000</td>\n",
       "      <td>31567.000000</td>\n",
       "      <td>3.434800e+04</td>\n",
       "      <td>34348.000000</td>\n",
       "      <td>34348.000000</td>\n",
       "      <td>3.434800e+04</td>\n",
       "    </tr>\n",
       "    <tr>\n",
       "      <td>mean</td>\n",
       "      <td>1177.387704</td>\n",
       "      <td>2.199278</td>\n",
       "      <td>2.076686</td>\n",
       "      <td>17.403551</td>\n",
       "      <td>8.577850</td>\n",
       "      <td>4.292717e+07</td>\n",
       "      <td>13.963273</td>\n",
       "      <td>52.420100</td>\n",
       "      <td>7.149190e+04</td>\n",
       "    </tr>\n",
       "    <tr>\n",
       "      <td>std</td>\n",
       "      <td>682.924385</td>\n",
       "      <td>0.880150</td>\n",
       "      <td>0.899821</td>\n",
       "      <td>13.996063</td>\n",
       "      <td>7.770904</td>\n",
       "      <td>6.954479e+06</td>\n",
       "      <td>9.131194</td>\n",
       "      <td>32.689143</td>\n",
       "      <td>7.717099e+04</td>\n",
       "    </tr>\n",
       "    <tr>\n",
       "      <td>min</td>\n",
       "      <td>10.000000</td>\n",
       "      <td>1.000000</td>\n",
       "      <td>1.000000</td>\n",
       "      <td>2.000000</td>\n",
       "      <td>-2.000000</td>\n",
       "      <td>2.074068e+06</td>\n",
       "      <td>0.000000</td>\n",
       "      <td>0.000000</td>\n",
       "      <td>2.200000e+03</td>\n",
       "    </tr>\n",
       "    <tr>\n",
       "      <td>25%</td>\n",
       "      <td>690.000000</td>\n",
       "      <td>2.000000</td>\n",
       "      <td>1.000000</td>\n",
       "      <td>7.000000</td>\n",
       "      <td>3.000000</td>\n",
       "      <td>4.249600e+07</td>\n",
       "      <td>0.000000</td>\n",
       "      <td>0.000000</td>\n",
       "      <td>3.200000e+04</td>\n",
       "    </tr>\n",
       "    <tr>\n",
       "      <td>50%</td>\n",
       "      <td>1040.000000</td>\n",
       "      <td>2.000000</td>\n",
       "      <td>2.000000</td>\n",
       "      <td>14.000000</td>\n",
       "      <td>6.000000</td>\n",
       "      <td>4.601324e+07</td>\n",
       "      <td>19.074359</td>\n",
       "      <td>72.839302</td>\n",
       "      <td>5.000000e+04</td>\n",
       "    </tr>\n",
       "    <tr>\n",
       "      <td>75%</td>\n",
       "      <td>1400.000000</td>\n",
       "      <td>3.000000</td>\n",
       "      <td>3.000000</td>\n",
       "      <td>22.000000</td>\n",
       "      <td>11.000000</td>\n",
       "      <td>4.678029e+07</td>\n",
       "      <td>19.150385</td>\n",
       "      <td>72.878328</td>\n",
       "      <td>8.000000e+04</td>\n",
       "    </tr>\n",
       "    <tr>\n",
       "      <td>max</td>\n",
       "      <td>9500.000000</td>\n",
       "      <td>8.000000</td>\n",
       "      <td>5.000000</td>\n",
       "      <td>120.000000</td>\n",
       "      <td>95.000000</td>\n",
       "      <td>4.733486e+07</td>\n",
       "      <td>73.071373</td>\n",
       "      <td>80.191436</td>\n",
       "      <td>1.200000e+06</td>\n",
       "    </tr>\n",
       "  </tbody>\n",
       "</table>\n",
       "</div>"
      ],
      "text/plain": [
       "               area  bathroom_num   bedroom_num   floor_count     floor_num  \\\n",
       "count  33572.000000  34334.000000  34348.000000  31488.000000  31567.000000   \n",
       "mean    1177.387704      2.199278      2.076686     17.403551      8.577850   \n",
       "std      682.924385      0.880150      0.899821     13.996063      7.770904   \n",
       "min       10.000000      1.000000      1.000000      2.000000     -2.000000   \n",
       "25%      690.000000      2.000000      1.000000      7.000000      3.000000   \n",
       "50%     1040.000000      2.000000      2.000000     14.000000      6.000000   \n",
       "75%     1400.000000      3.000000      3.000000     22.000000     11.000000   \n",
       "max     9500.000000      8.000000      5.000000    120.000000     95.000000   \n",
       "\n",
       "                 id      latitude     longitude         price  \n",
       "count  3.434800e+04  34348.000000  34348.000000  3.434800e+04  \n",
       "mean   4.292717e+07     13.963273     52.420100  7.149190e+04  \n",
       "std    6.954479e+06      9.131194     32.689143  7.717099e+04  \n",
       "min    2.074068e+06      0.000000      0.000000  2.200000e+03  \n",
       "25%    4.249600e+07      0.000000      0.000000  3.200000e+04  \n",
       "50%    4.601324e+07     19.074359     72.839302  5.000000e+04  \n",
       "75%    4.678029e+07     19.150385     72.878328  8.000000e+04  \n",
       "max    4.733486e+07     73.071373     80.191436  1.200000e+06  "
      ]
     },
     "execution_count": 26,
     "metadata": {},
     "output_type": "execute_result"
    }
   ],
   "source": [
    "#getting statistical summary of the Series and DataFrame.\n",
    "df.describe()"
   ]
  },
  {
   "cell_type": "code",
   "execution_count": 27,
   "metadata": {
    "scrolled": true
   },
   "outputs": [
    {
     "data": {
      "text/plain": [
       "Index(['area', 'bathroom_num', 'bedroom_num', 'city', 'desc', 'dev_name',\n",
       "       'floor_count', 'floor_num', 'furnishing', 'id', 'id_string', 'latitude',\n",
       "       'locality', 'longitude', 'post_date', 'poster_name', 'price', 'project',\n",
       "       'title', 'trans', 'type', 'url', 'user_type'],\n",
       "      dtype='object')"
      ]
     },
     "execution_count": 27,
     "metadata": {},
     "output_type": "execute_result"
    }
   ],
   "source": [
    "#column labels of the given Dataframe.\n",
    "df.columns"
   ]
  },
  {
   "cell_type": "markdown",
   "metadata": {},
   "source": [
    "### Drop features that are not required to build our model"
   ]
  },
  {
   "cell_type": "code",
   "execution_count": 28,
   "metadata": {},
   "outputs": [
    {
     "data": {
      "text/html": [
       "<div>\n",
       "<style scoped>\n",
       "    .dataframe tbody tr th:only-of-type {\n",
       "        vertical-align: middle;\n",
       "    }\n",
       "\n",
       "    .dataframe tbody tr th {\n",
       "        vertical-align: top;\n",
       "    }\n",
       "\n",
       "    .dataframe thead th {\n",
       "        text-align: right;\n",
       "    }\n",
       "</style>\n",
       "<table border=\"1\" class=\"dataframe\">\n",
       "  <thead>\n",
       "    <tr style=\"text-align: right;\">\n",
       "      <th></th>\n",
       "      <th>area</th>\n",
       "      <th>bathroom_num</th>\n",
       "      <th>bedroom_num</th>\n",
       "      <th>furnishing</th>\n",
       "      <th>locality</th>\n",
       "      <th>price</th>\n",
       "      <th>user_type</th>\n",
       "    </tr>\n",
       "  </thead>\n",
       "  <tbody>\n",
       "    <tr>\n",
       "      <td>0</td>\n",
       "      <td>350.0</td>\n",
       "      <td>2.0</td>\n",
       "      <td>1</td>\n",
       "      <td>Unfurnished</td>\n",
       "      <td>Malad West</td>\n",
       "      <td>9000</td>\n",
       "      <td>Agent</td>\n",
       "    </tr>\n",
       "    <tr>\n",
       "      <td>1</td>\n",
       "      <td>652.0</td>\n",
       "      <td>2.0</td>\n",
       "      <td>1</td>\n",
       "      <td>Semi-Furnished</td>\n",
       "      <td>Vasai</td>\n",
       "      <td>8060</td>\n",
       "      <td>Agent</td>\n",
       "    </tr>\n",
       "    <tr>\n",
       "      <td>2</td>\n",
       "      <td>635.0</td>\n",
       "      <td>2.0</td>\n",
       "      <td>1</td>\n",
       "      <td>Semi-Furnished</td>\n",
       "      <td>Virar</td>\n",
       "      <td>8000</td>\n",
       "      <td>Agent</td>\n",
       "    </tr>\n",
       "    <tr>\n",
       "      <td>3</td>\n",
       "      <td>540.0</td>\n",
       "      <td>2.0</td>\n",
       "      <td>1</td>\n",
       "      <td>Semi-Furnished</td>\n",
       "      <td>Vasai East</td>\n",
       "      <td>8000</td>\n",
       "      <td>Agent</td>\n",
       "    </tr>\n",
       "    <tr>\n",
       "      <td>4</td>\n",
       "      <td>625.0</td>\n",
       "      <td>1.0</td>\n",
       "      <td>1</td>\n",
       "      <td>Furnished</td>\n",
       "      <td>Naigaon East</td>\n",
       "      <td>9000</td>\n",
       "      <td>Owner</td>\n",
       "    </tr>\n",
       "  </tbody>\n",
       "</table>\n",
       "</div>"
      ],
      "text/plain": [
       "    area  bathroom_num  bedroom_num      furnishing      locality  price  \\\n",
       "0  350.0           2.0            1     Unfurnished    Malad West   9000   \n",
       "1  652.0           2.0            1  Semi-Furnished         Vasai   8060   \n",
       "2  635.0           2.0            1  Semi-Furnished         Virar   8000   \n",
       "3  540.0           2.0            1  Semi-Furnished    Vasai East   8000   \n",
       "4  625.0           1.0            1       Furnished  Naigaon East   9000   \n",
       "\n",
       "  user_type  \n",
       "0     Agent  \n",
       "1     Agent  \n",
       "2     Agent  \n",
       "3     Agent  \n",
       "4     Owner  "
      ]
     },
     "execution_count": 28,
     "metadata": {},
     "output_type": "execute_result"
    }
   ],
   "source": [
    "df1 = df.drop(['city','desc','dev_name','floor_count', 'floor_num', 'id', 'id_string','post_date', 'poster_name','project','title', 'trans', 'type', 'url', 'latitude','longitude'],axis='columns')\n",
    "df1.head()"
   ]
  },
  {
   "cell_type": "markdown",
   "metadata": {},
   "source": [
    "# Data Cleaning:Check for na values"
   ]
  },
  {
   "cell_type": "code",
   "execution_count": 34,
   "metadata": {},
   "outputs": [
    {
     "name": "stdout",
     "output_type": "stream",
     "text": [
      "area            1626\n",
      "bathroom_num       9\n",
      "bedroom_num        5\n",
      "furnishing         4\n",
      "locality         828\n",
      "price            805\n",
      "user_type          3\n",
      "dtype: int64\n"
     ]
    }
   ],
   "source": [
    "#Verify unique values of each column\n",
    "    \n",
    "unique = df1.nunique(dropna=False)\n",
    "\n",
    "#print unique values of each column\n",
    "print(unique)"
   ]
  },
  {
   "cell_type": "markdown",
   "metadata": {},
   "source": [
    "# Handling null values"
   ]
  },
  {
   "cell_type": "code",
   "execution_count": 41,
   "metadata": {},
   "outputs": [
    {
     "data": {
      "text/html": [
       "<div>\n",
       "<style scoped>\n",
       "    .dataframe tbody tr th:only-of-type {\n",
       "        vertical-align: middle;\n",
       "    }\n",
       "\n",
       "    .dataframe tbody tr th {\n",
       "        vertical-align: top;\n",
       "    }\n",
       "\n",
       "    .dataframe thead th {\n",
       "        text-align: right;\n",
       "    }\n",
       "</style>\n",
       "<table border=\"1\" class=\"dataframe\">\n",
       "  <thead>\n",
       "    <tr style=\"text-align: right;\">\n",
       "      <th></th>\n",
       "      <th>area</th>\n",
       "      <th>bathroom_num</th>\n",
       "      <th>bedroom_num</th>\n",
       "      <th>furnishing</th>\n",
       "      <th>locality</th>\n",
       "      <th>price</th>\n",
       "      <th>user_type</th>\n",
       "    </tr>\n",
       "  </thead>\n",
       "  <tbody>\n",
       "    <tr>\n",
       "      <td>0</td>\n",
       "      <td>350.0</td>\n",
       "      <td>2.0</td>\n",
       "      <td>1</td>\n",
       "      <td>Unfurnished</td>\n",
       "      <td>Malad West</td>\n",
       "      <td>9000</td>\n",
       "      <td>Agent</td>\n",
       "    </tr>\n",
       "    <tr>\n",
       "      <td>1</td>\n",
       "      <td>652.0</td>\n",
       "      <td>2.0</td>\n",
       "      <td>1</td>\n",
       "      <td>Semi-Furnished</td>\n",
       "      <td>Vasai</td>\n",
       "      <td>8060</td>\n",
       "      <td>Agent</td>\n",
       "    </tr>\n",
       "    <tr>\n",
       "      <td>2</td>\n",
       "      <td>635.0</td>\n",
       "      <td>2.0</td>\n",
       "      <td>1</td>\n",
       "      <td>Semi-Furnished</td>\n",
       "      <td>Virar</td>\n",
       "      <td>8000</td>\n",
       "      <td>Agent</td>\n",
       "    </tr>\n",
       "    <tr>\n",
       "      <td>3</td>\n",
       "      <td>540.0</td>\n",
       "      <td>2.0</td>\n",
       "      <td>1</td>\n",
       "      <td>Semi-Furnished</td>\n",
       "      <td>Vasai East</td>\n",
       "      <td>8000</td>\n",
       "      <td>Agent</td>\n",
       "    </tr>\n",
       "    <tr>\n",
       "      <td>4</td>\n",
       "      <td>625.0</td>\n",
       "      <td>1.0</td>\n",
       "      <td>1</td>\n",
       "      <td>Furnished</td>\n",
       "      <td>Naigaon East</td>\n",
       "      <td>9000</td>\n",
       "      <td>Owner</td>\n",
       "    </tr>\n",
       "    <tr>\n",
       "      <td>5</td>\n",
       "      <td>630.0</td>\n",
       "      <td>2.0</td>\n",
       "      <td>1</td>\n",
       "      <td>Unfurnished</td>\n",
       "      <td>Virar West</td>\n",
       "      <td>8000</td>\n",
       "      <td>Agent</td>\n",
       "    </tr>\n",
       "    <tr>\n",
       "      <td>6</td>\n",
       "      <td>690.0</td>\n",
       "      <td>2.0</td>\n",
       "      <td>1</td>\n",
       "      <td>Furnished</td>\n",
       "      <td>Virar</td>\n",
       "      <td>8500</td>\n",
       "      <td>Agent</td>\n",
       "    </tr>\n",
       "    <tr>\n",
       "      <td>7</td>\n",
       "      <td>338.0</td>\n",
       "      <td>1.0</td>\n",
       "      <td>1</td>\n",
       "      <td>Unfurnished</td>\n",
       "      <td>Royal Palms Estate</td>\n",
       "      <td>10000</td>\n",
       "      <td>Agent</td>\n",
       "    </tr>\n",
       "    <tr>\n",
       "      <td>8</td>\n",
       "      <td>675.0</td>\n",
       "      <td>2.0</td>\n",
       "      <td>1</td>\n",
       "      <td>Furnished</td>\n",
       "      <td>Virar</td>\n",
       "      <td>9000</td>\n",
       "      <td>Agent</td>\n",
       "    </tr>\n",
       "    <tr>\n",
       "      <td>9</td>\n",
       "      <td>500.0</td>\n",
       "      <td>1.0</td>\n",
       "      <td>1</td>\n",
       "      <td>Semi-Furnished</td>\n",
       "      <td>Virar West</td>\n",
       "      <td>8000</td>\n",
       "      <td>Agent</td>\n",
       "    </tr>\n",
       "    <tr>\n",
       "      <td>10</td>\n",
       "      <td>850.0</td>\n",
       "      <td>2.0</td>\n",
       "      <td>1</td>\n",
       "      <td>Unfurnished</td>\n",
       "      <td>Virar</td>\n",
       "      <td>8000</td>\n",
       "      <td>Agent</td>\n",
       "    </tr>\n",
       "    <tr>\n",
       "      <td>11</td>\n",
       "      <td>650.0</td>\n",
       "      <td>1.0</td>\n",
       "      <td>1</td>\n",
       "      <td>Semi-Furnished</td>\n",
       "      <td>Nalasopara</td>\n",
       "      <td>8500</td>\n",
       "      <td>Agent</td>\n",
       "    </tr>\n",
       "    <tr>\n",
       "      <td>12</td>\n",
       "      <td>630.0</td>\n",
       "      <td>2.0</td>\n",
       "      <td>1</td>\n",
       "      <td>Unfurnished</td>\n",
       "      <td>Virar West</td>\n",
       "      <td>8000</td>\n",
       "      <td>Agent</td>\n",
       "    </tr>\n",
       "    <tr>\n",
       "      <td>13</td>\n",
       "      <td>730.0</td>\n",
       "      <td>2.0</td>\n",
       "      <td>1</td>\n",
       "      <td>Unfurnished</td>\n",
       "      <td>Virar</td>\n",
       "      <td>8000</td>\n",
       "      <td>Agent</td>\n",
       "    </tr>\n",
       "    <tr>\n",
       "      <td>14</td>\n",
       "      <td>240.0</td>\n",
       "      <td>2.0</td>\n",
       "      <td>1</td>\n",
       "      <td>Unfurnished</td>\n",
       "      <td>Malad West</td>\n",
       "      <td>9000</td>\n",
       "      <td>Agent</td>\n",
       "    </tr>\n",
       "    <tr>\n",
       "      <td>15</td>\n",
       "      <td>570.0</td>\n",
       "      <td>2.0</td>\n",
       "      <td>1</td>\n",
       "      <td>Unfurnished</td>\n",
       "      <td>Naigaon East</td>\n",
       "      <td>8000</td>\n",
       "      <td>Agent</td>\n",
       "    </tr>\n",
       "    <tr>\n",
       "      <td>16</td>\n",
       "      <td>560.0</td>\n",
       "      <td>1.0</td>\n",
       "      <td>1</td>\n",
       "      <td>Furnished</td>\n",
       "      <td>Silver Park</td>\n",
       "      <td>10000</td>\n",
       "      <td>Agent</td>\n",
       "    </tr>\n",
       "    <tr>\n",
       "      <td>17</td>\n",
       "      <td>600.0</td>\n",
       "      <td>1.0</td>\n",
       "      <td>1</td>\n",
       "      <td>Unfurnished</td>\n",
       "      <td>Vasai West</td>\n",
       "      <td>10000</td>\n",
       "      <td>Agent</td>\n",
       "    </tr>\n",
       "    <tr>\n",
       "      <td>18</td>\n",
       "      <td>225.0</td>\n",
       "      <td>1.0</td>\n",
       "      <td>1</td>\n",
       "      <td>Semi-Furnished</td>\n",
       "      <td>Andheri East</td>\n",
       "      <td>10000</td>\n",
       "      <td>Agent</td>\n",
       "    </tr>\n",
       "    <tr>\n",
       "      <td>19</td>\n",
       "      <td>645.0</td>\n",
       "      <td>1.0</td>\n",
       "      <td>1</td>\n",
       "      <td>Unfurnished</td>\n",
       "      <td>Vasai East</td>\n",
       "      <td>8500</td>\n",
       "      <td>Agent</td>\n",
       "    </tr>\n",
       "    <tr>\n",
       "      <td>20</td>\n",
       "      <td>750.0</td>\n",
       "      <td>2.0</td>\n",
       "      <td>1</td>\n",
       "      <td>Semi-Furnished</td>\n",
       "      <td>Virar West</td>\n",
       "      <td>8000</td>\n",
       "      <td>Agent</td>\n",
       "    </tr>\n",
       "    <tr>\n",
       "      <td>21</td>\n",
       "      <td>225.0</td>\n",
       "      <td>1.0</td>\n",
       "      <td>1</td>\n",
       "      <td>Furnished</td>\n",
       "      <td>Mulund East</td>\n",
       "      <td>10000</td>\n",
       "      <td>Owner</td>\n",
       "    </tr>\n",
       "    <tr>\n",
       "      <td>22</td>\n",
       "      <td>NaN</td>\n",
       "      <td>2.0</td>\n",
       "      <td>1</td>\n",
       "      <td>Furnished</td>\n",
       "      <td>Andheri East</td>\n",
       "      <td>8000</td>\n",
       "      <td>Agent</td>\n",
       "    </tr>\n",
       "    <tr>\n",
       "      <td>23</td>\n",
       "      <td>NaN</td>\n",
       "      <td>1.0</td>\n",
       "      <td>1</td>\n",
       "      <td>Unfurnished</td>\n",
       "      <td>Malvani</td>\n",
       "      <td>10000</td>\n",
       "      <td>Owner</td>\n",
       "    </tr>\n",
       "    <tr>\n",
       "      <td>24</td>\n",
       "      <td>485.0</td>\n",
       "      <td>1.0</td>\n",
       "      <td>1</td>\n",
       "      <td>Semi-Furnished</td>\n",
       "      <td>Nalasopara East</td>\n",
       "      <td>8500</td>\n",
       "      <td>Owner</td>\n",
       "    </tr>\n",
       "    <tr>\n",
       "      <td>25</td>\n",
       "      <td>300.0</td>\n",
       "      <td>1.0</td>\n",
       "      <td>1</td>\n",
       "      <td>Semi-Furnished</td>\n",
       "      <td>NaN</td>\n",
       "      <td>8000</td>\n",
       "      <td>Owner</td>\n",
       "    </tr>\n",
       "    <tr>\n",
       "      <td>26</td>\n",
       "      <td>570.0</td>\n",
       "      <td>1.0</td>\n",
       "      <td>1</td>\n",
       "      <td>Semi-Furnished</td>\n",
       "      <td>Balkum Pada - Majiwada</td>\n",
       "      <td>10000</td>\n",
       "      <td>Owner</td>\n",
       "    </tr>\n",
       "    <tr>\n",
       "      <td>27</td>\n",
       "      <td>640.0</td>\n",
       "      <td>2.0</td>\n",
       "      <td>1</td>\n",
       "      <td>Furnished</td>\n",
       "      <td>Virar</td>\n",
       "      <td>10000</td>\n",
       "      <td>Owner</td>\n",
       "    </tr>\n",
       "    <tr>\n",
       "      <td>28</td>\n",
       "      <td>640.0</td>\n",
       "      <td>1.0</td>\n",
       "      <td>1</td>\n",
       "      <td>Semi-Furnished</td>\n",
       "      <td>Kalyan</td>\n",
       "      <td>10000</td>\n",
       "      <td>Owner</td>\n",
       "    </tr>\n",
       "    <tr>\n",
       "      <td>29</td>\n",
       "      <td>650.0</td>\n",
       "      <td>2.0</td>\n",
       "      <td>1</td>\n",
       "      <td>Unfurnished</td>\n",
       "      <td>NaN</td>\n",
       "      <td>8000</td>\n",
       "      <td>Owner</td>\n",
       "    </tr>\n",
       "  </tbody>\n",
       "</table>\n",
       "</div>"
      ],
      "text/plain": [
       "     area  bathroom_num  bedroom_num      furnishing                locality  \\\n",
       "0   350.0           2.0            1     Unfurnished              Malad West   \n",
       "1   652.0           2.0            1  Semi-Furnished                   Vasai   \n",
       "2   635.0           2.0            1  Semi-Furnished                   Virar   \n",
       "3   540.0           2.0            1  Semi-Furnished              Vasai East   \n",
       "4   625.0           1.0            1       Furnished            Naigaon East   \n",
       "5   630.0           2.0            1     Unfurnished              Virar West   \n",
       "6   690.0           2.0            1       Furnished                   Virar   \n",
       "7   338.0           1.0            1     Unfurnished      Royal Palms Estate   \n",
       "8   675.0           2.0            1       Furnished                   Virar   \n",
       "9   500.0           1.0            1  Semi-Furnished              Virar West   \n",
       "10  850.0           2.0            1     Unfurnished                   Virar   \n",
       "11  650.0           1.0            1  Semi-Furnished              Nalasopara   \n",
       "12  630.0           2.0            1     Unfurnished              Virar West   \n",
       "13  730.0           2.0            1     Unfurnished                   Virar   \n",
       "14  240.0           2.0            1     Unfurnished              Malad West   \n",
       "15  570.0           2.0            1     Unfurnished            Naigaon East   \n",
       "16  560.0           1.0            1       Furnished             Silver Park   \n",
       "17  600.0           1.0            1     Unfurnished              Vasai West   \n",
       "18  225.0           1.0            1  Semi-Furnished            Andheri East   \n",
       "19  645.0           1.0            1     Unfurnished              Vasai East   \n",
       "20  750.0           2.0            1  Semi-Furnished              Virar West   \n",
       "21  225.0           1.0            1       Furnished             Mulund East   \n",
       "22    NaN           2.0            1       Furnished            Andheri East   \n",
       "23    NaN           1.0            1     Unfurnished                 Malvani   \n",
       "24  485.0           1.0            1  Semi-Furnished         Nalasopara East   \n",
       "25  300.0           1.0            1  Semi-Furnished                     NaN   \n",
       "26  570.0           1.0            1  Semi-Furnished  Balkum Pada - Majiwada   \n",
       "27  640.0           2.0            1       Furnished                   Virar   \n",
       "28  640.0           1.0            1  Semi-Furnished                  Kalyan   \n",
       "29  650.0           2.0            1     Unfurnished                     NaN   \n",
       "\n",
       "    price user_type  \n",
       "0    9000     Agent  \n",
       "1    8060     Agent  \n",
       "2    8000     Agent  \n",
       "3    8000     Agent  \n",
       "4    9000     Owner  \n",
       "5    8000     Agent  \n",
       "6    8500     Agent  \n",
       "7   10000     Agent  \n",
       "8    9000     Agent  \n",
       "9    8000     Agent  \n",
       "10   8000     Agent  \n",
       "11   8500     Agent  \n",
       "12   8000     Agent  \n",
       "13   8000     Agent  \n",
       "14   9000     Agent  \n",
       "15   8000     Agent  \n",
       "16  10000     Agent  \n",
       "17  10000     Agent  \n",
       "18  10000     Agent  \n",
       "19   8500     Agent  \n",
       "20   8000     Agent  \n",
       "21  10000     Owner  \n",
       "22   8000     Agent  \n",
       "23  10000     Owner  \n",
       "24   8500     Owner  \n",
       "25   8000     Owner  \n",
       "26  10000     Owner  \n",
       "27  10000     Owner  \n",
       "28  10000     Owner  \n",
       "29   8000     Owner  "
      ]
     },
     "execution_count": 41,
     "metadata": {},
     "output_type": "execute_result"
    }
   ],
   "source": [
    "# Get the sum of all na values from dataset\n",
    "df1.isnull().sum()\n",
    "df1.head(30)\n"
   ]
  },
  {
   "cell_type": "code",
   "execution_count": 42,
   "metadata": {},
   "outputs": [
    {
     "data": {
      "text/html": [
       "<div>\n",
       "<style scoped>\n",
       "    .dataframe tbody tr th:only-of-type {\n",
       "        vertical-align: middle;\n",
       "    }\n",
       "\n",
       "    .dataframe tbody tr th {\n",
       "        vertical-align: top;\n",
       "    }\n",
       "\n",
       "    .dataframe thead th {\n",
       "        text-align: right;\n",
       "    }\n",
       "</style>\n",
       "<table border=\"1\" class=\"dataframe\">\n",
       "  <thead>\n",
       "    <tr style=\"text-align: right;\">\n",
       "      <th></th>\n",
       "      <th>area</th>\n",
       "      <th>bathroom_num</th>\n",
       "      <th>bedroom_num</th>\n",
       "      <th>furnishing</th>\n",
       "      <th>locality</th>\n",
       "      <th>price</th>\n",
       "      <th>user_type</th>\n",
       "    </tr>\n",
       "  </thead>\n",
       "  <tbody>\n",
       "    <tr>\n",
       "      <td>0</td>\n",
       "      <td>350.0</td>\n",
       "      <td>2.0</td>\n",
       "      <td>1</td>\n",
       "      <td>Unfurnished</td>\n",
       "      <td>Malad West</td>\n",
       "      <td>9000</td>\n",
       "      <td>Agent</td>\n",
       "    </tr>\n",
       "    <tr>\n",
       "      <td>1</td>\n",
       "      <td>652.0</td>\n",
       "      <td>2.0</td>\n",
       "      <td>1</td>\n",
       "      <td>Semi-Furnished</td>\n",
       "      <td>Vasai</td>\n",
       "      <td>8060</td>\n",
       "      <td>Agent</td>\n",
       "    </tr>\n",
       "    <tr>\n",
       "      <td>2</td>\n",
       "      <td>635.0</td>\n",
       "      <td>2.0</td>\n",
       "      <td>1</td>\n",
       "      <td>Semi-Furnished</td>\n",
       "      <td>Virar</td>\n",
       "      <td>8000</td>\n",
       "      <td>Agent</td>\n",
       "    </tr>\n",
       "    <tr>\n",
       "      <td>3</td>\n",
       "      <td>540.0</td>\n",
       "      <td>2.0</td>\n",
       "      <td>1</td>\n",
       "      <td>Semi-Furnished</td>\n",
       "      <td>Vasai East</td>\n",
       "      <td>8000</td>\n",
       "      <td>Agent</td>\n",
       "    </tr>\n",
       "    <tr>\n",
       "      <td>4</td>\n",
       "      <td>625.0</td>\n",
       "      <td>1.0</td>\n",
       "      <td>1</td>\n",
       "      <td>Furnished</td>\n",
       "      <td>Naigaon East</td>\n",
       "      <td>9000</td>\n",
       "      <td>Owner</td>\n",
       "    </tr>\n",
       "    <tr>\n",
       "      <td>5</td>\n",
       "      <td>630.0</td>\n",
       "      <td>2.0</td>\n",
       "      <td>1</td>\n",
       "      <td>Unfurnished</td>\n",
       "      <td>Virar West</td>\n",
       "      <td>8000</td>\n",
       "      <td>Agent</td>\n",
       "    </tr>\n",
       "    <tr>\n",
       "      <td>6</td>\n",
       "      <td>690.0</td>\n",
       "      <td>2.0</td>\n",
       "      <td>1</td>\n",
       "      <td>Furnished</td>\n",
       "      <td>Virar</td>\n",
       "      <td>8500</td>\n",
       "      <td>Agent</td>\n",
       "    </tr>\n",
       "    <tr>\n",
       "      <td>7</td>\n",
       "      <td>338.0</td>\n",
       "      <td>1.0</td>\n",
       "      <td>1</td>\n",
       "      <td>Unfurnished</td>\n",
       "      <td>Royal Palms Estate</td>\n",
       "      <td>10000</td>\n",
       "      <td>Agent</td>\n",
       "    </tr>\n",
       "    <tr>\n",
       "      <td>8</td>\n",
       "      <td>675.0</td>\n",
       "      <td>2.0</td>\n",
       "      <td>1</td>\n",
       "      <td>Furnished</td>\n",
       "      <td>Virar</td>\n",
       "      <td>9000</td>\n",
       "      <td>Agent</td>\n",
       "    </tr>\n",
       "    <tr>\n",
       "      <td>9</td>\n",
       "      <td>500.0</td>\n",
       "      <td>1.0</td>\n",
       "      <td>1</td>\n",
       "      <td>Semi-Furnished</td>\n",
       "      <td>Virar West</td>\n",
       "      <td>8000</td>\n",
       "      <td>Agent</td>\n",
       "    </tr>\n",
       "    <tr>\n",
       "      <td>10</td>\n",
       "      <td>850.0</td>\n",
       "      <td>2.0</td>\n",
       "      <td>1</td>\n",
       "      <td>Unfurnished</td>\n",
       "      <td>Virar</td>\n",
       "      <td>8000</td>\n",
       "      <td>Agent</td>\n",
       "    </tr>\n",
       "    <tr>\n",
       "      <td>11</td>\n",
       "      <td>650.0</td>\n",
       "      <td>1.0</td>\n",
       "      <td>1</td>\n",
       "      <td>Semi-Furnished</td>\n",
       "      <td>Nalasopara</td>\n",
       "      <td>8500</td>\n",
       "      <td>Agent</td>\n",
       "    </tr>\n",
       "    <tr>\n",
       "      <td>12</td>\n",
       "      <td>630.0</td>\n",
       "      <td>2.0</td>\n",
       "      <td>1</td>\n",
       "      <td>Unfurnished</td>\n",
       "      <td>Virar West</td>\n",
       "      <td>8000</td>\n",
       "      <td>Agent</td>\n",
       "    </tr>\n",
       "    <tr>\n",
       "      <td>13</td>\n",
       "      <td>730.0</td>\n",
       "      <td>2.0</td>\n",
       "      <td>1</td>\n",
       "      <td>Unfurnished</td>\n",
       "      <td>Virar</td>\n",
       "      <td>8000</td>\n",
       "      <td>Agent</td>\n",
       "    </tr>\n",
       "    <tr>\n",
       "      <td>14</td>\n",
       "      <td>240.0</td>\n",
       "      <td>2.0</td>\n",
       "      <td>1</td>\n",
       "      <td>Unfurnished</td>\n",
       "      <td>Malad West</td>\n",
       "      <td>9000</td>\n",
       "      <td>Agent</td>\n",
       "    </tr>\n",
       "    <tr>\n",
       "      <td>15</td>\n",
       "      <td>570.0</td>\n",
       "      <td>2.0</td>\n",
       "      <td>1</td>\n",
       "      <td>Unfurnished</td>\n",
       "      <td>Naigaon East</td>\n",
       "      <td>8000</td>\n",
       "      <td>Agent</td>\n",
       "    </tr>\n",
       "    <tr>\n",
       "      <td>16</td>\n",
       "      <td>560.0</td>\n",
       "      <td>1.0</td>\n",
       "      <td>1</td>\n",
       "      <td>Furnished</td>\n",
       "      <td>Silver Park</td>\n",
       "      <td>10000</td>\n",
       "      <td>Agent</td>\n",
       "    </tr>\n",
       "    <tr>\n",
       "      <td>17</td>\n",
       "      <td>600.0</td>\n",
       "      <td>1.0</td>\n",
       "      <td>1</td>\n",
       "      <td>Unfurnished</td>\n",
       "      <td>Vasai West</td>\n",
       "      <td>10000</td>\n",
       "      <td>Agent</td>\n",
       "    </tr>\n",
       "    <tr>\n",
       "      <td>18</td>\n",
       "      <td>225.0</td>\n",
       "      <td>1.0</td>\n",
       "      <td>1</td>\n",
       "      <td>Semi-Furnished</td>\n",
       "      <td>Andheri East</td>\n",
       "      <td>10000</td>\n",
       "      <td>Agent</td>\n",
       "    </tr>\n",
       "    <tr>\n",
       "      <td>19</td>\n",
       "      <td>645.0</td>\n",
       "      <td>1.0</td>\n",
       "      <td>1</td>\n",
       "      <td>Unfurnished</td>\n",
       "      <td>Vasai East</td>\n",
       "      <td>8500</td>\n",
       "      <td>Agent</td>\n",
       "    </tr>\n",
       "    <tr>\n",
       "      <td>20</td>\n",
       "      <td>750.0</td>\n",
       "      <td>2.0</td>\n",
       "      <td>1</td>\n",
       "      <td>Semi-Furnished</td>\n",
       "      <td>Virar West</td>\n",
       "      <td>8000</td>\n",
       "      <td>Agent</td>\n",
       "    </tr>\n",
       "    <tr>\n",
       "      <td>21</td>\n",
       "      <td>225.0</td>\n",
       "      <td>1.0</td>\n",
       "      <td>1</td>\n",
       "      <td>Furnished</td>\n",
       "      <td>Mulund East</td>\n",
       "      <td>10000</td>\n",
       "      <td>Owner</td>\n",
       "    </tr>\n",
       "    <tr>\n",
       "      <td>24</td>\n",
       "      <td>485.0</td>\n",
       "      <td>1.0</td>\n",
       "      <td>1</td>\n",
       "      <td>Semi-Furnished</td>\n",
       "      <td>Nalasopara East</td>\n",
       "      <td>8500</td>\n",
       "      <td>Owner</td>\n",
       "    </tr>\n",
       "    <tr>\n",
       "      <td>26</td>\n",
       "      <td>570.0</td>\n",
       "      <td>1.0</td>\n",
       "      <td>1</td>\n",
       "      <td>Semi-Furnished</td>\n",
       "      <td>Balkum Pada - Majiwada</td>\n",
       "      <td>10000</td>\n",
       "      <td>Owner</td>\n",
       "    </tr>\n",
       "    <tr>\n",
       "      <td>27</td>\n",
       "      <td>640.0</td>\n",
       "      <td>2.0</td>\n",
       "      <td>1</td>\n",
       "      <td>Furnished</td>\n",
       "      <td>Virar</td>\n",
       "      <td>10000</td>\n",
       "      <td>Owner</td>\n",
       "    </tr>\n",
       "    <tr>\n",
       "      <td>28</td>\n",
       "      <td>640.0</td>\n",
       "      <td>1.0</td>\n",
       "      <td>1</td>\n",
       "      <td>Semi-Furnished</td>\n",
       "      <td>Kalyan</td>\n",
       "      <td>10000</td>\n",
       "      <td>Owner</td>\n",
       "    </tr>\n",
       "    <tr>\n",
       "      <td>30</td>\n",
       "      <td>500.0</td>\n",
       "      <td>1.0</td>\n",
       "      <td>1</td>\n",
       "      <td>Semi-Furnished</td>\n",
       "      <td>Bhayandar East</td>\n",
       "      <td>10000</td>\n",
       "      <td>Agent</td>\n",
       "    </tr>\n",
       "    <tr>\n",
       "      <td>31</td>\n",
       "      <td>650.0</td>\n",
       "      <td>1.0</td>\n",
       "      <td>1</td>\n",
       "      <td>Unfurnished</td>\n",
       "      <td>Mira Bhayandar</td>\n",
       "      <td>10000</td>\n",
       "      <td>Agent</td>\n",
       "    </tr>\n",
       "    <tr>\n",
       "      <td>32</td>\n",
       "      <td>320.0</td>\n",
       "      <td>1.0</td>\n",
       "      <td>1</td>\n",
       "      <td>Furnished</td>\n",
       "      <td>MHADA Colony</td>\n",
       "      <td>9000</td>\n",
       "      <td>Agent</td>\n",
       "    </tr>\n",
       "    <tr>\n",
       "      <td>33</td>\n",
       "      <td>250.0</td>\n",
       "      <td>1.0</td>\n",
       "      <td>1</td>\n",
       "      <td>Semi-Furnished</td>\n",
       "      <td>Chembur Camp</td>\n",
       "      <td>10000</td>\n",
       "      <td>Agent</td>\n",
       "    </tr>\n",
       "  </tbody>\n",
       "</table>\n",
       "</div>"
      ],
      "text/plain": [
       "     area  bathroom_num  bedroom_num      furnishing                locality  \\\n",
       "0   350.0           2.0            1     Unfurnished              Malad West   \n",
       "1   652.0           2.0            1  Semi-Furnished                   Vasai   \n",
       "2   635.0           2.0            1  Semi-Furnished                   Virar   \n",
       "3   540.0           2.0            1  Semi-Furnished              Vasai East   \n",
       "4   625.0           1.0            1       Furnished            Naigaon East   \n",
       "5   630.0           2.0            1     Unfurnished              Virar West   \n",
       "6   690.0           2.0            1       Furnished                   Virar   \n",
       "7   338.0           1.0            1     Unfurnished      Royal Palms Estate   \n",
       "8   675.0           2.0            1       Furnished                   Virar   \n",
       "9   500.0           1.0            1  Semi-Furnished              Virar West   \n",
       "10  850.0           2.0            1     Unfurnished                   Virar   \n",
       "11  650.0           1.0            1  Semi-Furnished              Nalasopara   \n",
       "12  630.0           2.0            1     Unfurnished              Virar West   \n",
       "13  730.0           2.0            1     Unfurnished                   Virar   \n",
       "14  240.0           2.0            1     Unfurnished              Malad West   \n",
       "15  570.0           2.0            1     Unfurnished            Naigaon East   \n",
       "16  560.0           1.0            1       Furnished             Silver Park   \n",
       "17  600.0           1.0            1     Unfurnished              Vasai West   \n",
       "18  225.0           1.0            1  Semi-Furnished            Andheri East   \n",
       "19  645.0           1.0            1     Unfurnished              Vasai East   \n",
       "20  750.0           2.0            1  Semi-Furnished              Virar West   \n",
       "21  225.0           1.0            1       Furnished             Mulund East   \n",
       "24  485.0           1.0            1  Semi-Furnished         Nalasopara East   \n",
       "26  570.0           1.0            1  Semi-Furnished  Balkum Pada - Majiwada   \n",
       "27  640.0           2.0            1       Furnished                   Virar   \n",
       "28  640.0           1.0            1  Semi-Furnished                  Kalyan   \n",
       "30  500.0           1.0            1  Semi-Furnished          Bhayandar East   \n",
       "31  650.0           1.0            1     Unfurnished          Mira Bhayandar   \n",
       "32  320.0           1.0            1       Furnished            MHADA Colony   \n",
       "33  250.0           1.0            1  Semi-Furnished            Chembur Camp   \n",
       "\n",
       "    price user_type  \n",
       "0    9000     Agent  \n",
       "1    8060     Agent  \n",
       "2    8000     Agent  \n",
       "3    8000     Agent  \n",
       "4    9000     Owner  \n",
       "5    8000     Agent  \n",
       "6    8500     Agent  \n",
       "7   10000     Agent  \n",
       "8    9000     Agent  \n",
       "9    8000     Agent  \n",
       "10   8000     Agent  \n",
       "11   8500     Agent  \n",
       "12   8000     Agent  \n",
       "13   8000     Agent  \n",
       "14   9000     Agent  \n",
       "15   8000     Agent  \n",
       "16  10000     Agent  \n",
       "17  10000     Agent  \n",
       "18  10000     Agent  \n",
       "19   8500     Agent  \n",
       "20   8000     Agent  \n",
       "21  10000     Owner  \n",
       "24   8500     Owner  \n",
       "26  10000     Owner  \n",
       "27  10000     Owner  \n",
       "28  10000     Owner  \n",
       "30  10000     Agent  \n",
       "31  10000     Agent  \n",
       "32   9000     Agent  \n",
       "33  10000     Agent  "
      ]
     },
     "execution_count": 42,
     "metadata": {},
     "output_type": "execute_result"
    }
   ],
   "source": [
    "df2 = df1.dropna()\n",
    "df2.isnull().sum()\n",
    "df2.shape\n",
    "df2.head(30)"
   ]
  },
  {
   "cell_type": "markdown",
   "metadata": {},
   "source": [
    "# using seaborn for data selection"
   ]
  },
  {
   "cell_type": "code",
   "execution_count": 46,
   "metadata": {},
   "outputs": [
    {
     "data": {
      "text/plain": [
       "<matplotlib.axes._subplots.AxesSubplot at 0xeaef150>"
      ]
     },
     "execution_count": 46,
     "metadata": {},
     "output_type": "execute_result"
    },
    {
     "data": {
      "image/png": "[encoded data removed]",
      "text/plain": [
       "<Figure size 720x720 with 20 Axes>"
      ]
     },
     "metadata": {
      "needs_background": "light"
     },
     "output_type": "display_data"
    },
    {
     "data": {
      "image/png": "[encoded data removed]",
      "text/plain": [
       "<Figure size 2880x2160 with 1 Axes>"
      ]
     },
     "metadata": {
      "needs_background": "light"
     },
     "output_type": "display_data"
    }
   ],
   "source": [
    "sns.pairplot(df2)\n",
    "plt.figure(figsize = (40, 30))\n",
    "sns.boxplot(x = 'furnishing', y = 'price', data = df2)\n"
   ]
  },
  {
   "cell_type": "code",
   "execution_count": 47,
   "metadata": {},
   "outputs": [
    {
     "data": {
      "text/plain": [
       "<matplotlib.axes._subplots.AxesSubplot at 0xa9cc4f0>"
      ]
     },
     "execution_count": 47,
     "metadata": {},
     "output_type": "execute_result"
    },
    {
     "data": {
      "image/png": "[encoded data removed]",
      "text/plain": [
       "<Figure size 1440x720 with 1 Axes>"
      ]
     },
     "metadata": {
      "needs_background": "light"
     },
     "output_type": "display_data"
    }
   ],
   "source": [
    "sns.distplot(df2['price'])\n"
   ]
  },
  {
   "cell_type": "code",
   "execution_count": 48,
   "metadata": {},
   "outputs": [
    {
     "data": {
      "text/plain": [
       "<matplotlib.axes._subplots.AxesSubplot at 0xeb4d3b0>"
      ]
     },
     "execution_count": 48,
     "metadata": {},
     "output_type": "execute_result"
    },
    {
     "data": {
      "image/png": "[encoded data removed]",
      "text/plain": [
       "<Figure size 1440x720 with 2 Axes>"
      ]
     },
     "metadata": {
      "needs_background": "light"
     },
     "output_type": "display_data"
    }
   ],
   "source": [
    "sns.heatmap(df2.corr(), annot= True, annot_kws={'size':10}, xticklabels= True, yticklabels= True)"
   ]
  },
  {
   "cell_type": "code",
   "execution_count": 75,
   "metadata": {},
   "outputs": [
    {
     "data": {
      "text/plain": [
       "<function seaborn.utils.despine(fig=None, ax=None, top=True, right=True, left=False, bottom=False, offset=None, trim=False)>"
      ]
     },
     "execution_count": 75,
     "metadata": {},
     "output_type": "execute_result"
    },
    {
     "data": {
      "image/png": "[encoded data removed]",
      "text/plain": [
       "<Figure size 1440x720 with 1 Axes>"
      ]
     },
     "metadata": {
      "needs_background": "light"
     },
     "output_type": "display_data"
    }
   ],
   "source": [
    "df2['bedroom_num'].value_counts().plot(kind='bar')\n",
    "plt.title('number of Bedroom')\n",
    "plt.xlabel('Bedrooms')\n",
    "plt.ylabel('Count')\n",
    "sns.despine"
   ]
  },
  {
   "cell_type": "markdown",
   "metadata": {},
   "source": [
    "# Dimesionality Reduction\n",
    "### Dimensionality reduction is simply a process of reducing the dimension( or number of random variables) of your feature set"
   ]
  },
  {
   "cell_type": "code",
   "execution_count": 50,
   "metadata": {},
   "outputs": [
    {
     "data": {
      "text/plain": [
       "Powai                  1453\n",
       "Chembur                1400\n",
       "Andheri West           1359\n",
       "Andheri East           1092\n",
       "Worli                  1006\n",
       "                       ... \n",
       "Hindustan Chowk           1\n",
       "Gamdia Colony Chowk       1\n",
       "Azad Nagar JJC            1\n",
       "Srishti Complex           1\n",
       "RTO Colony                1\n",
       "Name: locality, Length: 821, dtype: int64"
      ]
     },
     "execution_count": 50,
     "metadata": {},
     "output_type": "execute_result"
    }
   ],
   "source": [
    "location = df2['locality'].value_counts() #Return a Series containing counts of unique values.\n",
    "location\n"
   ]
  },
  {
   "cell_type": "code",
   "execution_count": 55,
   "metadata": {},
   "outputs": [
    {
     "data": {
      "text/plain": [
       "33346"
      ]
     },
     "execution_count": 55,
     "metadata": {},
     "output_type": "execute_result"
    }
   ],
   "source": [
    "#Total number unique location categories are\n",
    "location.values.sum()"
   ]
  },
  {
   "cell_type": "code",
   "execution_count": 57,
   "metadata": {},
   "outputs": [
    {
     "data": {
      "text/plain": [
       "821"
      ]
     },
     "execution_count": 57,
     "metadata": {},
     "output_type": "execute_result"
    }
   ],
   "source": [
    "len(location)"
   ]
  },
  {
   "cell_type": "code",
   "execution_count": 58,
   "metadata": {},
   "outputs": [
    {
     "data": {
      "text/plain": [
       "274"
      ]
     },
     "execution_count": 58,
     "metadata": {},
     "output_type": "execute_result"
    }
   ],
   "source": [
    "len(location[location>10])"
   ]
  },
  {
   "cell_type": "code",
   "execution_count": 59,
   "metadata": {},
   "outputs": [
    {
     "data": {
      "text/plain": [
       "547"
      ]
     },
     "execution_count": 59,
     "metadata": {},
     "output_type": "execute_result"
    }
   ],
   "source": [
    "len(location[location<=10])"
   ]
  },
  {
   "cell_type": "code",
   "execution_count": 62,
   "metadata": {},
   "outputs": [
    {
     "data": {
      "text/plain": [
       "Azad Nagar Versova Road    10\n",
       "Vidya Nagari               10\n",
       "Khar                       10\n",
       "Sion Hospital Colony       10\n",
       "Juhu Beach Area            10\n",
       "                           ..\n",
       "Hindustan Chowk             1\n",
       "Gamdia Colony Chowk         1\n",
       "Azad Nagar JJC              1\n",
       "Srishti Complex             1\n",
       "RTO Colony                  1\n",
       "Name: locality, Length: 547, dtype: int64"
      ]
     },
     "execution_count": 62,
     "metadata": {},
     "output_type": "execute_result"
    }
   ],
   "source": [
    "#Get total number of categories where data points are less than 10\n",
    "location_stats_less_than_10 = location[location<=10]\n",
    "location_stats_less_than_10"
   ]
  },
  {
   "cell_type": "code",
   "execution_count": 63,
   "metadata": {},
   "outputs": [
    {
     "data": {
      "text/plain": [
       "821"
      ]
     },
     "execution_count": 63,
     "metadata": {},
     "output_type": "execute_result"
    }
   ],
   "source": [
    "len(df2.locality.unique())"
   ]
  },
  {
   "cell_type": "code",
   "execution_count": 80,
   "metadata": {},
   "outputs": [
    {
     "data": {
      "text/html": [
       "<div>\n",
       "<style scoped>\n",
       "    .dataframe tbody tr th:only-of-type {\n",
       "        vertical-align: middle;\n",
       "    }\n",
       "\n",
       "    .dataframe tbody tr th {\n",
       "        vertical-align: top;\n",
       "    }\n",
       "\n",
       "    .dataframe thead th {\n",
       "        text-align: right;\n",
       "    }\n",
       "</style>\n",
       "<table border=\"1\" class=\"dataframe\">\n",
       "  <thead>\n",
       "    <tr style=\"text-align: right;\">\n",
       "      <th></th>\n",
       "      <th>area</th>\n",
       "      <th>bathroom_num</th>\n",
       "      <th>bedroom_num</th>\n",
       "      <th>furnishing</th>\n",
       "      <th>locality</th>\n",
       "      <th>price</th>\n",
       "      <th>user_type</th>\n",
       "    </tr>\n",
       "  </thead>\n",
       "  <tbody>\n",
       "    <tr>\n",
       "      <td>0</td>\n",
       "      <td>350.0</td>\n",
       "      <td>2.0</td>\n",
       "      <td>1</td>\n",
       "      <td>Unfurnished</td>\n",
       "      <td>Malad West</td>\n",
       "      <td>9000</td>\n",
       "      <td>Agent</td>\n",
       "    </tr>\n",
       "    <tr>\n",
       "      <td>1</td>\n",
       "      <td>652.0</td>\n",
       "      <td>2.0</td>\n",
       "      <td>1</td>\n",
       "      <td>Semi-Furnished</td>\n",
       "      <td>Vasai</td>\n",
       "      <td>8060</td>\n",
       "      <td>Agent</td>\n",
       "    </tr>\n",
       "    <tr>\n",
       "      <td>2</td>\n",
       "      <td>635.0</td>\n",
       "      <td>2.0</td>\n",
       "      <td>1</td>\n",
       "      <td>Semi-Furnished</td>\n",
       "      <td>Virar</td>\n",
       "      <td>8000</td>\n",
       "      <td>Agent</td>\n",
       "    </tr>\n",
       "    <tr>\n",
       "      <td>3</td>\n",
       "      <td>540.0</td>\n",
       "      <td>2.0</td>\n",
       "      <td>1</td>\n",
       "      <td>Semi-Furnished</td>\n",
       "      <td>Vasai East</td>\n",
       "      <td>8000</td>\n",
       "      <td>Agent</td>\n",
       "    </tr>\n",
       "    <tr>\n",
       "      <td>4</td>\n",
       "      <td>625.0</td>\n",
       "      <td>1.0</td>\n",
       "      <td>1</td>\n",
       "      <td>Furnished</td>\n",
       "      <td>Naigaon East</td>\n",
       "      <td>9000</td>\n",
       "      <td>Owner</td>\n",
       "    </tr>\n",
       "    <tr>\n",
       "      <td>5</td>\n",
       "      <td>630.0</td>\n",
       "      <td>2.0</td>\n",
       "      <td>1</td>\n",
       "      <td>Unfurnished</td>\n",
       "      <td>Virar West</td>\n",
       "      <td>8000</td>\n",
       "      <td>Agent</td>\n",
       "    </tr>\n",
       "    <tr>\n",
       "      <td>6</td>\n",
       "      <td>690.0</td>\n",
       "      <td>2.0</td>\n",
       "      <td>1</td>\n",
       "      <td>Furnished</td>\n",
       "      <td>Virar</td>\n",
       "      <td>8500</td>\n",
       "      <td>Agent</td>\n",
       "    </tr>\n",
       "    <tr>\n",
       "      <td>7</td>\n",
       "      <td>338.0</td>\n",
       "      <td>1.0</td>\n",
       "      <td>1</td>\n",
       "      <td>Unfurnished</td>\n",
       "      <td>Royal Palms Estate</td>\n",
       "      <td>10000</td>\n",
       "      <td>Agent</td>\n",
       "    </tr>\n",
       "    <tr>\n",
       "      <td>8</td>\n",
       "      <td>675.0</td>\n",
       "      <td>2.0</td>\n",
       "      <td>1</td>\n",
       "      <td>Furnished</td>\n",
       "      <td>Virar</td>\n",
       "      <td>9000</td>\n",
       "      <td>Agent</td>\n",
       "    </tr>\n",
       "    <tr>\n",
       "      <td>9</td>\n",
       "      <td>500.0</td>\n",
       "      <td>1.0</td>\n",
       "      <td>1</td>\n",
       "      <td>Semi-Furnished</td>\n",
       "      <td>Virar West</td>\n",
       "      <td>8000</td>\n",
       "      <td>Agent</td>\n",
       "    </tr>\n",
       "  </tbody>\n",
       "</table>\n",
       "</div>"
      ],
      "text/plain": [
       "    area  bathroom_num  bedroom_num      furnishing            locality  \\\n",
       "0  350.0           2.0            1     Unfurnished          Malad West   \n",
       "1  652.0           2.0            1  Semi-Furnished               Vasai   \n",
       "2  635.0           2.0            1  Semi-Furnished               Virar   \n",
       "3  540.0           2.0            1  Semi-Furnished          Vasai East   \n",
       "4  625.0           1.0            1       Furnished        Naigaon East   \n",
       "5  630.0           2.0            1     Unfurnished          Virar West   \n",
       "6  690.0           2.0            1       Furnished               Virar   \n",
       "7  338.0           1.0            1     Unfurnished  Royal Palms Estate   \n",
       "8  675.0           2.0            1       Furnished               Virar   \n",
       "9  500.0           1.0            1  Semi-Furnished          Virar West   \n",
       "\n",
       "   price user_type  \n",
       "0   9000     Agent  \n",
       "1   8060     Agent  \n",
       "2   8000     Agent  \n",
       "3   8000     Agent  \n",
       "4   9000     Owner  \n",
       "5   8000     Agent  \n",
       "6   8500     Agent  \n",
       "7  10000     Agent  \n",
       "8   9000     Agent  \n",
       "9   8000     Agent  "
      ]
     },
     "execution_count": 80,
     "metadata": {},
     "output_type": "execute_result"
    }
   ],
   "source": [
    "#Using lambda function assign the 'other' type to every element in 'location_stats_less_than_10'\n",
    "df3=df2.copy()\n",
    "df3.locality = df2.locality.apply(lambda x: \"other\" if x in location_stats_less_than_10 else x)\n",
    "df3.head(10)"
   ]
  },
  {
   "cell_type": "code",
   "execution_count": 81,
   "metadata": {},
   "outputs": [
    {
     "data": {
      "text/plain": [
       "275"
      ]
     },
     "execution_count": 81,
     "metadata": {},
     "output_type": "execute_result"
    }
   ],
   "source": [
    "len(df3.locality.unique())\n"
   ]
  },
  {
   "cell_type": "code",
   "execution_count": 83,
   "metadata": {},
   "outputs": [
    {
     "data": {
      "text/html": [
       "<div>\n",
       "<style scoped>\n",
       "    .dataframe tbody tr th:only-of-type {\n",
       "        vertical-align: middle;\n",
       "    }\n",
       "\n",
       "    .dataframe tbody tr th {\n",
       "        vertical-align: top;\n",
       "    }\n",
       "\n",
       "    .dataframe thead th {\n",
       "        text-align: right;\n",
       "    }\n",
       "</style>\n",
       "<table border=\"1\" class=\"dataframe\">\n",
       "  <thead>\n",
       "    <tr style=\"text-align: right;\">\n",
       "      <th></th>\n",
       "      <th>area</th>\n",
       "      <th>bathroom_num</th>\n",
       "      <th>bedroom_num</th>\n",
       "      <th>furnishing</th>\n",
       "      <th>locality</th>\n",
       "      <th>price</th>\n",
       "      <th>user_type</th>\n",
       "    </tr>\n",
       "  </thead>\n",
       "  <tbody>\n",
       "    <tr>\n",
       "      <td>0</td>\n",
       "      <td>350.0</td>\n",
       "      <td>2.0</td>\n",
       "      <td>1</td>\n",
       "      <td>Unfurnished</td>\n",
       "      <td>Malad West</td>\n",
       "      <td>9000</td>\n",
       "      <td>Agent</td>\n",
       "    </tr>\n",
       "    <tr>\n",
       "      <td>1</td>\n",
       "      <td>652.0</td>\n",
       "      <td>2.0</td>\n",
       "      <td>1</td>\n",
       "      <td>Semi-Furnished</td>\n",
       "      <td>Vasai</td>\n",
       "      <td>8060</td>\n",
       "      <td>Agent</td>\n",
       "    </tr>\n",
       "    <tr>\n",
       "      <td>2</td>\n",
       "      <td>635.0</td>\n",
       "      <td>2.0</td>\n",
       "      <td>1</td>\n",
       "      <td>Semi-Furnished</td>\n",
       "      <td>Virar</td>\n",
       "      <td>8000</td>\n",
       "      <td>Agent</td>\n",
       "    </tr>\n",
       "    <tr>\n",
       "      <td>3</td>\n",
       "      <td>540.0</td>\n",
       "      <td>2.0</td>\n",
       "      <td>1</td>\n",
       "      <td>Semi-Furnished</td>\n",
       "      <td>Vasai East</td>\n",
       "      <td>8000</td>\n",
       "      <td>Agent</td>\n",
       "    </tr>\n",
       "    <tr>\n",
       "      <td>4</td>\n",
       "      <td>625.0</td>\n",
       "      <td>1.0</td>\n",
       "      <td>1</td>\n",
       "      <td>Furnished</td>\n",
       "      <td>Naigaon East</td>\n",
       "      <td>9000</td>\n",
       "      <td>Owner</td>\n",
       "    </tr>\n",
       "    <tr>\n",
       "      <td>5</td>\n",
       "      <td>630.0</td>\n",
       "      <td>2.0</td>\n",
       "      <td>1</td>\n",
       "      <td>Unfurnished</td>\n",
       "      <td>Virar West</td>\n",
       "      <td>8000</td>\n",
       "      <td>Agent</td>\n",
       "    </tr>\n",
       "    <tr>\n",
       "      <td>6</td>\n",
       "      <td>690.0</td>\n",
       "      <td>2.0</td>\n",
       "      <td>1</td>\n",
       "      <td>Furnished</td>\n",
       "      <td>Virar</td>\n",
       "      <td>8500</td>\n",
       "      <td>Agent</td>\n",
       "    </tr>\n",
       "    <tr>\n",
       "      <td>7</td>\n",
       "      <td>338.0</td>\n",
       "      <td>1.0</td>\n",
       "      <td>1</td>\n",
       "      <td>Unfurnished</td>\n",
       "      <td>Royal Palms Estate</td>\n",
       "      <td>10000</td>\n",
       "      <td>Agent</td>\n",
       "    </tr>\n",
       "    <tr>\n",
       "      <td>8</td>\n",
       "      <td>675.0</td>\n",
       "      <td>2.0</td>\n",
       "      <td>1</td>\n",
       "      <td>Furnished</td>\n",
       "      <td>Virar</td>\n",
       "      <td>9000</td>\n",
       "      <td>Agent</td>\n",
       "    </tr>\n",
       "    <tr>\n",
       "      <td>9</td>\n",
       "      <td>500.0</td>\n",
       "      <td>1.0</td>\n",
       "      <td>1</td>\n",
       "      <td>Semi-Furnished</td>\n",
       "      <td>Virar West</td>\n",
       "      <td>8000</td>\n",
       "      <td>Agent</td>\n",
       "    </tr>\n",
       "  </tbody>\n",
       "</table>\n",
       "</div>"
      ],
      "text/plain": [
       "    area  bathroom_num  bedroom_num      furnishing            locality  \\\n",
       "0  350.0           2.0            1     Unfurnished          Malad West   \n",
       "1  652.0           2.0            1  Semi-Furnished               Vasai   \n",
       "2  635.0           2.0            1  Semi-Furnished               Virar   \n",
       "3  540.0           2.0            1  Semi-Furnished          Vasai East   \n",
       "4  625.0           1.0            1       Furnished        Naigaon East   \n",
       "5  630.0           2.0            1     Unfurnished          Virar West   \n",
       "6  690.0           2.0            1       Furnished               Virar   \n",
       "7  338.0           1.0            1     Unfurnished  Royal Palms Estate   \n",
       "8  675.0           2.0            1       Furnished               Virar   \n",
       "9  500.0           1.0            1  Semi-Furnished          Virar West   \n",
       "\n",
       "   price user_type  \n",
       "0   9000     Agent  \n",
       "1   8060     Agent  \n",
       "2   8000     Agent  \n",
       "3   8000     Agent  \n",
       "4   9000     Owner  \n",
       "5   8000     Agent  \n",
       "6   8500     Agent  \n",
       "7  10000     Agent  \n",
       "8   9000     Agent  \n",
       "9   8000     Agent  "
      ]
     },
     "execution_count": 83,
     "metadata": {},
     "output_type": "execute_result"
    }
   ],
   "source": [
    "df3.head(10)"
   ]
  },
  {
   "cell_type": "code",
   "execution_count": 84,
   "metadata": {},
   "outputs": [
    {
     "data": {
      "text/plain": [
       "array(['Unfurnished', 'Semi-Furnished', 'Furnished'], dtype=object)"
      ]
     },
     "execution_count": 84,
     "metadata": {},
     "output_type": "execute_result"
    }
   ],
   "source": [
    "df3['furnishing'].unique()\n"
   ]
  },
  {
   "cell_type": "code",
   "execution_count": 85,
   "metadata": {},
   "outputs": [
    {
     "data": {
      "text/html": [
       "<div>\n",
       "<style scoped>\n",
       "    .dataframe tbody tr th:only-of-type {\n",
       "        vertical-align: middle;\n",
       "    }\n",
       "\n",
       "    .dataframe tbody tr th {\n",
       "        vertical-align: top;\n",
       "    }\n",
       "\n",
       "    .dataframe thead th {\n",
       "        text-align: right;\n",
       "    }\n",
       "</style>\n",
       "<table border=\"1\" class=\"dataframe\">\n",
       "  <thead>\n",
       "    <tr style=\"text-align: right;\">\n",
       "      <th></th>\n",
       "      <th>area</th>\n",
       "      <th>bathroom_num</th>\n",
       "      <th>bedroom_num</th>\n",
       "      <th>furnishing</th>\n",
       "      <th>locality</th>\n",
       "      <th>price</th>\n",
       "      <th>user_type</th>\n",
       "    </tr>\n",
       "  </thead>\n",
       "  <tbody>\n",
       "    <tr>\n",
       "      <td>0</td>\n",
       "      <td>350.0</td>\n",
       "      <td>2.0</td>\n",
       "      <td>1</td>\n",
       "      <td>Unfurnished</td>\n",
       "      <td>Malad West</td>\n",
       "      <td>9000</td>\n",
       "      <td>Agent</td>\n",
       "    </tr>\n",
       "    <tr>\n",
       "      <td>1</td>\n",
       "      <td>652.0</td>\n",
       "      <td>2.0</td>\n",
       "      <td>1</td>\n",
       "      <td>Semi-Furnished</td>\n",
       "      <td>Vasai</td>\n",
       "      <td>8060</td>\n",
       "      <td>Agent</td>\n",
       "    </tr>\n",
       "    <tr>\n",
       "      <td>2</td>\n",
       "      <td>635.0</td>\n",
       "      <td>2.0</td>\n",
       "      <td>1</td>\n",
       "      <td>Semi-Furnished</td>\n",
       "      <td>Virar</td>\n",
       "      <td>8000</td>\n",
       "      <td>Agent</td>\n",
       "    </tr>\n",
       "    <tr>\n",
       "      <td>3</td>\n",
       "      <td>540.0</td>\n",
       "      <td>2.0</td>\n",
       "      <td>1</td>\n",
       "      <td>Semi-Furnished</td>\n",
       "      <td>Vasai East</td>\n",
       "      <td>8000</td>\n",
       "      <td>Agent</td>\n",
       "    </tr>\n",
       "    <tr>\n",
       "      <td>4</td>\n",
       "      <td>625.0</td>\n",
       "      <td>1.0</td>\n",
       "      <td>1</td>\n",
       "      <td>Furnished</td>\n",
       "      <td>Naigaon East</td>\n",
       "      <td>9000</td>\n",
       "      <td>Owner</td>\n",
       "    </tr>\n",
       "  </tbody>\n",
       "</table>\n",
       "</div>"
      ],
      "text/plain": [
       "    area  bathroom_num  bedroom_num      furnishing      locality  price  \\\n",
       "0  350.0           2.0            1     Unfurnished    Malad West   9000   \n",
       "1  652.0           2.0            1  Semi-Furnished         Vasai   8060   \n",
       "2  635.0           2.0            1  Semi-Furnished         Virar   8000   \n",
       "3  540.0           2.0            1  Semi-Furnished    Vasai East   8000   \n",
       "4  625.0           1.0            1       Furnished  Naigaon East   9000   \n",
       "\n",
       "  user_type  \n",
       "0     Agent  \n",
       "1     Agent  \n",
       "2     Agent  \n",
       "3     Agent  \n",
       "4     Owner  "
      ]
     },
     "execution_count": 85,
     "metadata": {},
     "output_type": "execute_result"
    }
   ],
   "source": [
    "df3.head()"
   ]
  },
  {
   "cell_type": "markdown",
   "metadata": {},
   "source": [
    "# Feature Engineering"
   ]
  },
  {
   "cell_type": "code",
   "execution_count": 86,
   "metadata": {},
   "outputs": [
    {
     "data": {
      "text/html": [
       "<div>\n",
       "<style scoped>\n",
       "    .dataframe tbody tr th:only-of-type {\n",
       "        vertical-align: middle;\n",
       "    }\n",
       "\n",
       "    .dataframe tbody tr th {\n",
       "        vertical-align: top;\n",
       "    }\n",
       "\n",
       "    .dataframe thead th {\n",
       "        text-align: right;\n",
       "    }\n",
       "</style>\n",
       "<table border=\"1\" class=\"dataframe\">\n",
       "  <thead>\n",
       "    <tr style=\"text-align: right;\">\n",
       "      <th></th>\n",
       "      <th>area</th>\n",
       "      <th>bathroom_num</th>\n",
       "      <th>bedroom_num</th>\n",
       "      <th>furnishing</th>\n",
       "      <th>locality</th>\n",
       "      <th>price</th>\n",
       "      <th>user_type</th>\n",
       "      <th>price_per_sqft</th>\n",
       "    </tr>\n",
       "  </thead>\n",
       "  <tbody>\n",
       "    <tr>\n",
       "      <td>0</td>\n",
       "      <td>350.0</td>\n",
       "      <td>2.0</td>\n",
       "      <td>1</td>\n",
       "      <td>Unfurnished</td>\n",
       "      <td>Malad West</td>\n",
       "      <td>9000</td>\n",
       "      <td>Agent</td>\n",
       "      <td>25.714286</td>\n",
       "    </tr>\n",
       "    <tr>\n",
       "      <td>1</td>\n",
       "      <td>652.0</td>\n",
       "      <td>2.0</td>\n",
       "      <td>1</td>\n",
       "      <td>Semi-Furnished</td>\n",
       "      <td>Vasai</td>\n",
       "      <td>8060</td>\n",
       "      <td>Agent</td>\n",
       "      <td>12.361963</td>\n",
       "    </tr>\n",
       "    <tr>\n",
       "      <td>2</td>\n",
       "      <td>635.0</td>\n",
       "      <td>2.0</td>\n",
       "      <td>1</td>\n",
       "      <td>Semi-Furnished</td>\n",
       "      <td>Virar</td>\n",
       "      <td>8000</td>\n",
       "      <td>Agent</td>\n",
       "      <td>12.598425</td>\n",
       "    </tr>\n",
       "    <tr>\n",
       "      <td>3</td>\n",
       "      <td>540.0</td>\n",
       "      <td>2.0</td>\n",
       "      <td>1</td>\n",
       "      <td>Semi-Furnished</td>\n",
       "      <td>Vasai East</td>\n",
       "      <td>8000</td>\n",
       "      <td>Agent</td>\n",
       "      <td>14.814815</td>\n",
       "    </tr>\n",
       "    <tr>\n",
       "      <td>4</td>\n",
       "      <td>625.0</td>\n",
       "      <td>1.0</td>\n",
       "      <td>1</td>\n",
       "      <td>Furnished</td>\n",
       "      <td>Naigaon East</td>\n",
       "      <td>9000</td>\n",
       "      <td>Owner</td>\n",
       "      <td>14.400000</td>\n",
       "    </tr>\n",
       "  </tbody>\n",
       "</table>\n",
       "</div>"
      ],
      "text/plain": [
       "    area  bathroom_num  bedroom_num      furnishing      locality  price  \\\n",
       "0  350.0           2.0            1     Unfurnished    Malad West   9000   \n",
       "1  652.0           2.0            1  Semi-Furnished         Vasai   8060   \n",
       "2  635.0           2.0            1  Semi-Furnished         Virar   8000   \n",
       "3  540.0           2.0            1  Semi-Furnished    Vasai East   8000   \n",
       "4  625.0           1.0            1       Furnished  Naigaon East   9000   \n",
       "\n",
       "  user_type  price_per_sqft  \n",
       "0     Agent       25.714286  \n",
       "1     Agent       12.361963  \n",
       "2     Agent       12.598425  \n",
       "3     Agent       14.814815  \n",
       "4     Owner       14.400000  "
      ]
     },
     "execution_count": 86,
     "metadata": {},
     "output_type": "execute_result"
    }
   ],
   "source": [
    "df3['price_per_sqft'] = df3['price']/df3['area']\n",
    "df3.head()"
   ]
  },
  {
   "cell_type": "code",
   "execution_count": 88,
   "metadata": {},
   "outputs": [
    {
     "data": {
      "text/plain": [
       "count    33346.000000\n",
       "mean        58.737641\n",
       "std        154.744405\n",
       "min          2.812500\n",
       "25%         38.095238\n",
       "50%         49.404753\n",
       "75%         68.000000\n",
       "max      20000.000000\n",
       "Name: price_per_sqft, dtype: float64"
      ]
     },
     "execution_count": 88,
     "metadata": {},
     "output_type": "execute_result"
    }
   ],
   "source": [
    "df3_stats = df3['price_per_sqft'].describe()\n",
    "df3_stats"
   ]
  },
  {
   "cell_type": "code",
   "execution_count": 90,
   "metadata": {},
   "outputs": [
    {
     "data": {
      "text/html": [
       "<div>\n",
       "<style scoped>\n",
       "    .dataframe tbody tr th:only-of-type {\n",
       "        vertical-align: middle;\n",
       "    }\n",
       "\n",
       "    .dataframe tbody tr th {\n",
       "        vertical-align: top;\n",
       "    }\n",
       "\n",
       "    .dataframe thead th {\n",
       "        text-align: right;\n",
       "    }\n",
       "</style>\n",
       "<table border=\"1\" class=\"dataframe\">\n",
       "  <thead>\n",
       "    <tr style=\"text-align: right;\">\n",
       "      <th></th>\n",
       "      <th>area</th>\n",
       "      <th>bathroom_num</th>\n",
       "      <th>bedroom_num</th>\n",
       "      <th>furnishing</th>\n",
       "      <th>locality</th>\n",
       "      <th>price</th>\n",
       "      <th>user_type</th>\n",
       "      <th>price_per_sqft</th>\n",
       "    </tr>\n",
       "  </thead>\n",
       "  <tbody>\n",
       "    <tr>\n",
       "      <td>0</td>\n",
       "      <td>350.0</td>\n",
       "      <td>2.0</td>\n",
       "      <td>1</td>\n",
       "      <td>Unfurnished</td>\n",
       "      <td>Malad West</td>\n",
       "      <td>9000</td>\n",
       "      <td>Agent</td>\n",
       "      <td>25.714286</td>\n",
       "    </tr>\n",
       "    <tr>\n",
       "      <td>1</td>\n",
       "      <td>652.0</td>\n",
       "      <td>2.0</td>\n",
       "      <td>1</td>\n",
       "      <td>Semi-Furnished</td>\n",
       "      <td>Vasai</td>\n",
       "      <td>8060</td>\n",
       "      <td>Agent</td>\n",
       "      <td>12.361963</td>\n",
       "    </tr>\n",
       "    <tr>\n",
       "      <td>2</td>\n",
       "      <td>635.0</td>\n",
       "      <td>2.0</td>\n",
       "      <td>1</td>\n",
       "      <td>Semi-Furnished</td>\n",
       "      <td>Virar</td>\n",
       "      <td>8000</td>\n",
       "      <td>Agent</td>\n",
       "      <td>12.598425</td>\n",
       "    </tr>\n",
       "    <tr>\n",
       "      <td>3</td>\n",
       "      <td>540.0</td>\n",
       "      <td>2.0</td>\n",
       "      <td>1</td>\n",
       "      <td>Semi-Furnished</td>\n",
       "      <td>Vasai East</td>\n",
       "      <td>8000</td>\n",
       "      <td>Agent</td>\n",
       "      <td>14.814815</td>\n",
       "    </tr>\n",
       "    <tr>\n",
       "      <td>4</td>\n",
       "      <td>625.0</td>\n",
       "      <td>1.0</td>\n",
       "      <td>1</td>\n",
       "      <td>Furnished</td>\n",
       "      <td>Naigaon East</td>\n",
       "      <td>9000</td>\n",
       "      <td>Owner</td>\n",
       "      <td>14.400000</td>\n",
       "    </tr>\n",
       "  </tbody>\n",
       "</table>\n",
       "</div>"
      ],
      "text/plain": [
       "    area  bathroom_num  bedroom_num      furnishing      locality  price  \\\n",
       "0  350.0           2.0            1     Unfurnished    Malad West   9000   \n",
       "1  652.0           2.0            1  Semi-Furnished         Vasai   8060   \n",
       "2  635.0           2.0            1  Semi-Furnished         Virar   8000   \n",
       "3  540.0           2.0            1  Semi-Furnished    Vasai East   8000   \n",
       "4  625.0           1.0            1       Furnished  Naigaon East   9000   \n",
       "\n",
       "  user_type  price_per_sqft  \n",
       "0     Agent       25.714286  \n",
       "1     Agent       12.361963  \n",
       "2     Agent       12.598425  \n",
       "3     Agent       14.814815  \n",
       "4     Owner       14.400000  "
      ]
     },
     "execution_count": 90,
     "metadata": {},
     "output_type": "execute_result"
    }
   ],
   "source": [
    "df3.to_csv(\"mumbai_home_price.csv\",index=False)\n",
    "df3.head()"
   ]
  },
  {
   "cell_type": "code",
   "execution_count": 91,
   "metadata": {},
   "outputs": [
    {
     "data": {
      "text/plain": [
       "2    13127\n",
       "1     9803\n",
       "3     8351\n",
       "4     1902\n",
       "5      163\n",
       "Name: bedroom_num, dtype: int64"
      ]
     },
     "execution_count": 91,
     "metadata": {},
     "output_type": "execute_result"
    }
   ],
   "source": [
    "df3['bedroom_num'].value_counts()"
   ]
  },
  {
   "cell_type": "code",
   "execution_count": 92,
   "metadata": {},
   "outputs": [
    {
     "data": {
      "text/plain": [
       "2.0    18320\n",
       "3.0     6626\n",
       "1.0     5773\n",
       "4.0     1950\n",
       "5.0      549\n",
       "6.0      121\n",
       "7.0        4\n",
       "8.0        3\n",
       "Name: bathroom_num, dtype: int64"
      ]
     },
     "execution_count": 92,
     "metadata": {},
     "output_type": "execute_result"
    }
   ],
   "source": [
    "bathroom_stat = df3['bathroom_num'].value_counts()\n",
    "bathroom_stat"
   ]
  },
  {
   "cell_type": "code",
   "execution_count": 93,
   "metadata": {},
   "outputs": [
    {
     "data": {
      "text/plain": [
       "7.0    4\n",
       "8.0    3\n",
       "Name: bathroom_num, dtype: int64"
      ]
     },
     "execution_count": 93,
     "metadata": {},
     "output_type": "execute_result"
    }
   ],
   "source": [
    "bathroom_stat_greater_six = bathroom_stat[bathroom_stat<=4]\n",
    "bathroom_stat_greater_six"
   ]
  },
  {
   "cell_type": "code",
   "execution_count": 95,
   "metadata": {},
   "outputs": [
    {
     "data": {
      "text/plain": [
       "(33346, 8)"
      ]
     },
     "execution_count": 95,
     "metadata": {},
     "output_type": "execute_result"
    }
   ],
   "source": [
    "#Lets visualize the data where square fit per bedroom is less than 300\n",
    "df3[df3.area/df3.bedroom_num<300].head(20)\n",
    "df3.price_per_sqft.describe()\n",
    "df3.shape"
   ]
  },
  {
   "cell_type": "code",
   "execution_count": 96,
   "metadata": {},
   "outputs": [
    {
     "data": {
      "text/html": [
       "<div>\n",
       "<style scoped>\n",
       "    .dataframe tbody tr th:only-of-type {\n",
       "        vertical-align: middle;\n",
       "    }\n",
       "\n",
       "    .dataframe tbody tr th {\n",
       "        vertical-align: top;\n",
       "    }\n",
       "\n",
       "    .dataframe thead th {\n",
       "        text-align: right;\n",
       "    }\n",
       "</style>\n",
       "<table border=\"1\" class=\"dataframe\">\n",
       "  <thead>\n",
       "    <tr style=\"text-align: right;\">\n",
       "      <th></th>\n",
       "      <th>area</th>\n",
       "      <th>bathroom_num</th>\n",
       "      <th>bedroom_num</th>\n",
       "      <th>furnishing</th>\n",
       "      <th>locality</th>\n",
       "      <th>price</th>\n",
       "      <th>user_type</th>\n",
       "      <th>price_per_sqft</th>\n",
       "    </tr>\n",
       "  </thead>\n",
       "  <tbody>\n",
       "    <tr>\n",
       "      <td>0</td>\n",
       "      <td>350.0</td>\n",
       "      <td>2.0</td>\n",
       "      <td>1</td>\n",
       "      <td>Unfurnished</td>\n",
       "      <td>Malad West</td>\n",
       "      <td>9000</td>\n",
       "      <td>Agent</td>\n",
       "      <td>25.714286</td>\n",
       "    </tr>\n",
       "    <tr>\n",
       "      <td>1</td>\n",
       "      <td>652.0</td>\n",
       "      <td>2.0</td>\n",
       "      <td>1</td>\n",
       "      <td>Semi-Furnished</td>\n",
       "      <td>Vasai</td>\n",
       "      <td>8060</td>\n",
       "      <td>Agent</td>\n",
       "      <td>12.361963</td>\n",
       "    </tr>\n",
       "    <tr>\n",
       "      <td>2</td>\n",
       "      <td>635.0</td>\n",
       "      <td>2.0</td>\n",
       "      <td>1</td>\n",
       "      <td>Semi-Furnished</td>\n",
       "      <td>Virar</td>\n",
       "      <td>8000</td>\n",
       "      <td>Agent</td>\n",
       "      <td>12.598425</td>\n",
       "    </tr>\n",
       "    <tr>\n",
       "      <td>3</td>\n",
       "      <td>540.0</td>\n",
       "      <td>2.0</td>\n",
       "      <td>1</td>\n",
       "      <td>Semi-Furnished</td>\n",
       "      <td>Vasai East</td>\n",
       "      <td>8000</td>\n",
       "      <td>Agent</td>\n",
       "      <td>14.814815</td>\n",
       "    </tr>\n",
       "    <tr>\n",
       "      <td>4</td>\n",
       "      <td>625.0</td>\n",
       "      <td>1.0</td>\n",
       "      <td>1</td>\n",
       "      <td>Furnished</td>\n",
       "      <td>Naigaon East</td>\n",
       "      <td>9000</td>\n",
       "      <td>Owner</td>\n",
       "      <td>14.400000</td>\n",
       "    </tr>\n",
       "  </tbody>\n",
       "</table>\n",
       "</div>"
      ],
      "text/plain": [
       "    area  bathroom_num  bedroom_num      furnishing      locality  price  \\\n",
       "0  350.0           2.0            1     Unfurnished    Malad West   9000   \n",
       "1  652.0           2.0            1  Semi-Furnished         Vasai   8060   \n",
       "2  635.0           2.0            1  Semi-Furnished         Virar   8000   \n",
       "3  540.0           2.0            1  Semi-Furnished    Vasai East   8000   \n",
       "4  625.0           1.0            1       Furnished  Naigaon East   9000   \n",
       "\n",
       "  user_type  price_per_sqft  \n",
       "0     Agent       25.714286  \n",
       "1     Agent       12.361963  \n",
       "2     Agent       12.598425  \n",
       "3     Agent       14.814815  \n",
       "4     Owner       14.400000  "
      ]
     },
     "execution_count": 96,
     "metadata": {},
     "output_type": "execute_result"
    }
   ],
   "source": [
    "df4 = df3.copy()\n",
    "df4.head()"
   ]
  },
  {
   "cell_type": "code",
   "execution_count": 98,
   "metadata": {},
   "outputs": [
    {
     "data": {
      "text/plain": [
       "36"
      ]
     },
     "execution_count": 98,
     "metadata": {},
     "output_type": "execute_result"
    }
   ],
   "source": [
    "temp = df4[df4.area/df4.bedroom_num<200]\n",
    "len(temp)"
   ]
  },
  {
   "cell_type": "code",
   "execution_count": 99,
   "metadata": {},
   "outputs": [
    {
     "data": {
      "text/plain": [
       "(33346, 8)"
      ]
     },
     "execution_count": 99,
     "metadata": {},
     "output_type": "execute_result"
    }
   ],
   "source": [
    "df4.shape\n"
   ]
  },
  {
   "cell_type": "code",
   "execution_count": 100,
   "metadata": {},
   "outputs": [
    {
     "data": {
      "text/plain": [
       "(33310, 8)"
      ]
     },
     "execution_count": 100,
     "metadata": {},
     "output_type": "execute_result"
    }
   ],
   "source": [
    "df5 = df4[~(df4.area/df4.bedroom_num<200)]\n",
    "df5.shape"
   ]
  },
  {
   "cell_type": "code",
   "execution_count": 102,
   "metadata": {},
   "outputs": [
    {
     "data": {
      "text/html": [
       "<div>\n",
       "<style scoped>\n",
       "    .dataframe tbody tr th:only-of-type {\n",
       "        vertical-align: middle;\n",
       "    }\n",
       "\n",
       "    .dataframe tbody tr th {\n",
       "        vertical-align: top;\n",
       "    }\n",
       "\n",
       "    .dataframe thead th {\n",
       "        text-align: right;\n",
       "    }\n",
       "</style>\n",
       "<table border=\"1\" class=\"dataframe\">\n",
       "  <thead>\n",
       "    <tr style=\"text-align: right;\">\n",
       "      <th></th>\n",
       "      <th>area</th>\n",
       "      <th>bathroom_num</th>\n",
       "      <th>bedroom_num</th>\n",
       "      <th>furnishing</th>\n",
       "      <th>locality</th>\n",
       "      <th>price</th>\n",
       "      <th>user_type</th>\n",
       "      <th>price_per_sqft</th>\n",
       "    </tr>\n",
       "  </thead>\n",
       "  <tbody>\n",
       "    <tr>\n",
       "      <td>0</td>\n",
       "      <td>350.0</td>\n",
       "      <td>2.0</td>\n",
       "      <td>1</td>\n",
       "      <td>Unfurnished</td>\n",
       "      <td>Malad West</td>\n",
       "      <td>9000</td>\n",
       "      <td>Agent</td>\n",
       "      <td>25.714286</td>\n",
       "    </tr>\n",
       "    <tr>\n",
       "      <td>1</td>\n",
       "      <td>652.0</td>\n",
       "      <td>2.0</td>\n",
       "      <td>1</td>\n",
       "      <td>Semi-Furnished</td>\n",
       "      <td>Vasai</td>\n",
       "      <td>8060</td>\n",
       "      <td>Agent</td>\n",
       "      <td>12.361963</td>\n",
       "    </tr>\n",
       "    <tr>\n",
       "      <td>2</td>\n",
       "      <td>635.0</td>\n",
       "      <td>2.0</td>\n",
       "      <td>1</td>\n",
       "      <td>Semi-Furnished</td>\n",
       "      <td>Virar</td>\n",
       "      <td>8000</td>\n",
       "      <td>Agent</td>\n",
       "      <td>12.598425</td>\n",
       "    </tr>\n",
       "    <tr>\n",
       "      <td>3</td>\n",
       "      <td>540.0</td>\n",
       "      <td>2.0</td>\n",
       "      <td>1</td>\n",
       "      <td>Semi-Furnished</td>\n",
       "      <td>Vasai East</td>\n",
       "      <td>8000</td>\n",
       "      <td>Agent</td>\n",
       "      <td>14.814815</td>\n",
       "    </tr>\n",
       "    <tr>\n",
       "      <td>4</td>\n",
       "      <td>625.0</td>\n",
       "      <td>1.0</td>\n",
       "      <td>1</td>\n",
       "      <td>Furnished</td>\n",
       "      <td>Naigaon East</td>\n",
       "      <td>9000</td>\n",
       "      <td>Owner</td>\n",
       "      <td>14.400000</td>\n",
       "    </tr>\n",
       "  </tbody>\n",
       "</table>\n",
       "</div>"
      ],
      "text/plain": [
       "    area  bathroom_num  bedroom_num      furnishing      locality  price  \\\n",
       "0  350.0           2.0            1     Unfurnished    Malad West   9000   \n",
       "1  652.0           2.0            1  Semi-Furnished         Vasai   8060   \n",
       "2  635.0           2.0            1  Semi-Furnished         Virar   8000   \n",
       "3  540.0           2.0            1  Semi-Furnished    Vasai East   8000   \n",
       "4  625.0           1.0            1       Furnished  Naigaon East   9000   \n",
       "\n",
       "  user_type  price_per_sqft  \n",
       "0     Agent       25.714286  \n",
       "1     Agent       12.361963  \n",
       "2     Agent       12.598425  \n",
       "3     Agent       14.814815  \n",
       "4     Owner       14.400000  "
      ]
     },
     "execution_count": 102,
     "metadata": {},
     "output_type": "execute_result"
    }
   ],
   "source": [
    "df5['price_per_sqft'].describe()\n",
    "df6 = df5.copy()\n",
    "df6.head()"
   ]
  },
  {
   "cell_type": "code",
   "execution_count": 104,
   "metadata": {},
   "outputs": [
    {
     "data": {
      "text/plain": [
       "(33310, 8)"
      ]
     },
     "execution_count": 104,
     "metadata": {},
     "output_type": "execute_result"
    }
   ],
   "source": [
    "df6.shape"
   ]
  },
  {
   "cell_type": "code",
   "execution_count": 108,
   "metadata": {},
   "outputs": [
    {
     "data": {
      "text/plain": [
       "<Figure size 2880x2160 with 0 Axes>"
      ]
     },
     "execution_count": 108,
     "metadata": {},
     "output_type": "execute_result"
    },
    {
     "data": {
      "image/png": "[encoded data removed]",
      "text/plain": [
       "<Figure size 900x900 with 30 Axes>"
      ]
     },
     "metadata": {
      "needs_background": "light"
     },
     "output_type": "display_data"
    },
    {
     "data": {
      "text/plain": [
       "<Figure size 2880x2160 with 0 Axes>"
      ]
     },
     "metadata": {},
     "output_type": "display_data"
    }
   ],
   "source": [
    "#Using seaborn for data selection\n",
    "sns.pairplot(df6)\n",
    "plt.figure(figsize = (40, 30))"
   ]
  },
  {
   "cell_type": "code",
   "execution_count": 109,
   "metadata": {},
   "outputs": [
    {
     "data": {
      "text/plain": [
       "<matplotlib.axes._subplots.AxesSubplot at 0x17069a90>"
      ]
     },
     "execution_count": 109,
     "metadata": {},
     "output_type": "execute_result"
    },
    {
     "data": {
      "image/png": "[encoded data removed]",
      "text/plain": [
       "<Figure size 1440x720 with 1 Axes>"
      ]
     },
     "metadata": {
      "needs_background": "light"
     },
     "output_type": "display_data"
    }
   ],
   "source": [
    "sns.boxplot(x = 'furnishing', y = 'price', data = df6)"
   ]
  },
  {
   "cell_type": "code",
   "execution_count": 110,
   "metadata": {},
   "outputs": [
    {
     "data": {
      "text/plain": [
       "<matplotlib.axes._subplots.AxesSubplot at 0x171dea10>"
      ]
     },
     "execution_count": 110,
     "metadata": {},
     "output_type": "execute_result"
    },
    {
     "data": {
      "image/png": "[encoded data removed]",
      "text/plain": [
       "<Figure size 1440x720 with 1 Axes>"
      ]
     },
     "metadata": {
      "needs_background": "light"
     },
     "output_type": "display_data"
    }
   ],
   "source": [
    "sns.distplot(df6['price'])"
   ]
  },
  {
   "cell_type": "code",
   "execution_count": 111,
   "metadata": {},
   "outputs": [
    {
     "data": {
      "text/plain": [
       "<matplotlib.axes._subplots.AxesSubplot at 0x171cfdb0>"
      ]
     },
     "execution_count": 111,
     "metadata": {},
     "output_type": "execute_result"
    },
    {
     "data": {
      "image/png": "[encoded data removed]",
      "text/plain": [
       "<Figure size 1440x720 with 2 Axes>"
      ]
     },
     "metadata": {
      "needs_background": "light"
     },
     "output_type": "display_data"
    }
   ],
   "source": [
    "sns.heatmap(df6.corr(), annot= True, annot_kws={'size':10}, xticklabels= True, yticklabels= True)"
   ]
  },
  {
   "cell_type": "markdown",
   "metadata": {},
   "source": [
    "# Outlier Removal\n",
    "### An outlier is an observation that is unlike the other observations. It is rare, or distinct, or does not fit in some way.\n",
    "### Outliers are the data points that represent the extreame variation of dataset\n",
    "### Outliers can be valid data points but since our model is generalization of the data, outliers can affect the performanace of the model. We are going to remove the otliers, but please note its not always a good practice to remove the outliers.\n",
    "### To remove the outliers we can use domain knwoledge and standard deviation\n"
   ]
  },
  {
   "cell_type": "markdown",
   "metadata": {},
   "source": [
    "# Standard Deviation\n",
    "#### Standard deviation is measure of spread that is to khow how much does the data vary from the average"
   ]
  },
  {
   "cell_type": "code",
   "execution_count": 113,
   "metadata": {},
   "outputs": [
    {
     "data": {
      "text/plain": [
       "(26979, 8)"
      ]
     },
     "execution_count": 113,
     "metadata": {},
     "output_type": "execute_result"
    }
   ],
   "source": [
    "def remove_pps_outliers(df):\n",
    "    df_out = pd.DataFrame()\n",
    "    for key, subdf in df.groupby('locality'):\n",
    "        m = np.mean(subdf.price_per_sqft)\n",
    "        st = np.std(subdf.price_per_sqft)\n",
    "        reduced_df = subdf[(subdf.price_per_sqft>(m-st)) & (subdf.price_per_sqft<=(m+st))]\n",
    "        df_out = pd.concat([df_out,reduced_df],ignore_index=True)\n",
    "    return df_out\n",
    "df7 = remove_pps_outliers(df6)\n",
    "df7.shape"
   ]
  },
  {
   "cell_type": "code",
   "execution_count": 114,
   "metadata": {},
   "outputs": [
    {
     "data": {
      "text/html": [
       "<div>\n",
       "<style scoped>\n",
       "    .dataframe tbody tr th:only-of-type {\n",
       "        vertical-align: middle;\n",
       "    }\n",
       "\n",
       "    .dataframe tbody tr th {\n",
       "        vertical-align: top;\n",
       "    }\n",
       "\n",
       "    .dataframe thead th {\n",
       "        text-align: right;\n",
       "    }\n",
       "</style>\n",
       "<table border=\"1\" class=\"dataframe\">\n",
       "  <thead>\n",
       "    <tr style=\"text-align: right;\">\n",
       "      <th></th>\n",
       "      <th>area</th>\n",
       "      <th>bathroom_num</th>\n",
       "      <th>bedroom_num</th>\n",
       "      <th>furnishing</th>\n",
       "      <th>locality</th>\n",
       "      <th>price</th>\n",
       "      <th>user_type</th>\n",
       "      <th>price_per_sqft</th>\n",
       "    </tr>\n",
       "  </thead>\n",
       "  <tbody>\n",
       "    <tr>\n",
       "      <td>0</td>\n",
       "      <td>2326.0</td>\n",
       "      <td>3.0</td>\n",
       "      <td>4</td>\n",
       "      <td>Unfurnished</td>\n",
       "      <td>4 Bunglows</td>\n",
       "      <td>125000</td>\n",
       "      <td>Agent</td>\n",
       "      <td>53.740327</td>\n",
       "    </tr>\n",
       "    <tr>\n",
       "      <td>1</td>\n",
       "      <td>1800.0</td>\n",
       "      <td>4.0</td>\n",
       "      <td>4</td>\n",
       "      <td>Furnished</td>\n",
       "      <td>4 Bunglows</td>\n",
       "      <td>125000</td>\n",
       "      <td>Agent</td>\n",
       "      <td>69.444444</td>\n",
       "    </tr>\n",
       "    <tr>\n",
       "      <td>2</td>\n",
       "      <td>2500.0</td>\n",
       "      <td>4.0</td>\n",
       "      <td>4</td>\n",
       "      <td>Semi-Furnished</td>\n",
       "      <td>4 Bunglows</td>\n",
       "      <td>125000</td>\n",
       "      <td>Agent</td>\n",
       "      <td>50.000000</td>\n",
       "    </tr>\n",
       "    <tr>\n",
       "      <td>3</td>\n",
       "      <td>2600.0</td>\n",
       "      <td>4.0</td>\n",
       "      <td>4</td>\n",
       "      <td>Semi-Furnished</td>\n",
       "      <td>4 Bunglows</td>\n",
       "      <td>150000</td>\n",
       "      <td>Agent</td>\n",
       "      <td>57.692308</td>\n",
       "    </tr>\n",
       "    <tr>\n",
       "      <td>4</td>\n",
       "      <td>2572.0</td>\n",
       "      <td>3.0</td>\n",
       "      <td>4</td>\n",
       "      <td>Semi-Furnished</td>\n",
       "      <td>4 Bunglows</td>\n",
       "      <td>140000</td>\n",
       "      <td>Agent</td>\n",
       "      <td>54.432348</td>\n",
       "    </tr>\n",
       "  </tbody>\n",
       "</table>\n",
       "</div>"
      ],
      "text/plain": [
       "     area  bathroom_num  bedroom_num      furnishing    locality   price  \\\n",
       "0  2326.0           3.0            4     Unfurnished  4 Bunglows  125000   \n",
       "1  1800.0           4.0            4       Furnished  4 Bunglows  125000   \n",
       "2  2500.0           4.0            4  Semi-Furnished  4 Bunglows  125000   \n",
       "3  2600.0           4.0            4  Semi-Furnished  4 Bunglows  150000   \n",
       "4  2572.0           3.0            4  Semi-Furnished  4 Bunglows  140000   \n",
       "\n",
       "  user_type  price_per_sqft  \n",
       "0     Agent       53.740327  \n",
       "1     Agent       69.444444  \n",
       "2     Agent       50.000000  \n",
       "3     Agent       57.692308  \n",
       "4     Agent       54.432348  "
      ]
     },
     "execution_count": 114,
     "metadata": {},
     "output_type": "execute_result"
    }
   ],
   "source": [
    "df7.head()"
   ]
  },
  {
   "cell_type": "code",
   "execution_count": 115,
   "metadata": {},
   "outputs": [
    {
     "data": {
      "image/png": "[encoded data removed]",
      "text/plain": [
       "<Figure size 1080x720 with 1 Axes>"
      ]
     },
     "metadata": {
      "needs_background": "light"
     },
     "output_type": "display_data"
    }
   ],
   "source": [
    "def plot_scatter_chart(df,locality):\n",
    "    bhk2 = df[(df.locality==locality) & (df.bedroom_num==1)]\n",
    "    bhk3 = df[(df.locality==locality) & (df.bedroom_num==2)]\n",
    "    matplotlib.rcParams['figure.figsize'] = (15,10)\n",
    "    plt.scatter(bhk2.area,bhk2.price,color='blue',label='1 BHK', s=50)\n",
    "    plt.scatter(bhk3.area,bhk3.price,marker='+', color='green',label='2 BHK', s=50)\n",
    "    plt.xlabel(\"Total Square Feet Area\")\n",
    "    plt.ylabel(\"Price (Lakh Indian Rupees)\")\n",
    "    plt.title(locality)\n",
    "    plt.legend()\n",
    "plot_scatter_chart(df7,\"Andheri East\")"
   ]
  },
  {
   "cell_type": "code",
   "execution_count": 120,
   "metadata": {},
   "outputs": [
    {
     "data": {
      "image/png": "[encoded data removed]",
      "text/plain": [
       "<Figure size 1080x720 with 1 Axes>"
      ]
     },
     "metadata": {
      "needs_background": "light"
     },
     "output_type": "display_data"
    }
   ],
   "source": [
    "def plot_scatter_chart(df,locality):\n",
    "    bhk2 = df[(df.locality==locality) & (df.bedroom_num==1)]\n",
    "    bhk3 = df[(df.locality==locality) & (df.bedroom_num==2)]\n",
    "    matplotlib.rcParams['figure.figsize'] = (15,10)\n",
    "    plt.scatter(bhk2.area,bhk2.price,color='blue',label='1 BHK', s=50)\n",
    "    plt.scatter(bhk3.area,bhk3.price,marker='+', color='green',label='2 BHK', s=50)\n",
    "    plt.xlabel(\"Total Square Feet Area\")\n",
    "    plt.ylabel(\"Price (Lakh Indian Rupees)\")\n",
    "    plt.title(locality)\n",
    "    plt.legend\n",
    "plot_scatter_chart(df7,\"Lokhandwala Complex\")"
   ]
  },
  {
   "cell_type": "code",
   "execution_count": 121,
   "metadata": {},
   "outputs": [
    {
     "data": {
      "text/plain": [
       "(26979, 8)"
      ]
     },
     "execution_count": 121,
     "metadata": {},
     "output_type": "execute_result"
    }
   ],
   "source": [
    "df7.shape"
   ]
  },
  {
   "cell_type": "code",
   "execution_count": 123,
   "metadata": {},
   "outputs": [
    {
     "data": {
      "text/plain": [
       "(16457, 8)"
      ]
     },
     "execution_count": 123,
     "metadata": {},
     "output_type": "execute_result"
    }
   ],
   "source": [
    "def remove_bhk_outliers(df):\n",
    "    exclude_indices = np.array([])\n",
    "    for location, location_df in df.groupby('locality'):\n",
    "        bhk_stats = {}\n",
    "        for bhk, bhk_df in location_df.groupby('bedroom_num'):\n",
    "            bhk_stats[bhk] = {\n",
    "                'mean': np.mean(bhk_df.price_per_sqft),\n",
    "                'std': np.std(bhk_df.price_per_sqft),\n",
    "                'count': bhk_df.shape[0]\n",
    "            }\n",
    "        for bhk, bhk_df in location_df.groupby('bedroom_num'):\n",
    "            stats = bhk_stats.get(bhk-1)\n",
    "            if stats and stats['count']>5:\n",
    "                exclude_indices = np.append(exclude_indices, bhk_df[bhk_df.price_per_sqft<(stats['mean'])].index.values)\n",
    "    return df.drop(exclude_indices,axis='index')\n",
    "df8 = remove_bhk_outliers(df7)\n",
    "df8.shape"
   ]
  },
  {
   "cell_type": "code",
   "execution_count": 124,
   "metadata": {},
   "outputs": [
    {
     "data": {
      "image/png": "[encoded data removed]",
      "text/plain": [
       "<Figure size 1080x720 with 1 Axes>"
      ]
     },
     "metadata": {
      "needs_background": "light"
     },
     "output_type": "display_data"
    }
   ],
   "source": [
    "def plot_scatter_chart(df,locality):\n",
    "    bhk2 = df[(df.locality==locality) & (df.bedroom_num==1)]\n",
    "    bhk3 = df[(df.locality==locality) & (df.bedroom_num==2)]\n",
    "    matplotlib.rcParams['figure.figsize'] = (15,10)\n",
    "    plt.scatter(bhk2.area,bhk2.price,color='blue',label='1 BHK', s=50)\n",
    "    plt.scatter(bhk3.area,bhk3.price,marker='+', color='green',label='2 BHK', s=50)\n",
    "    plt.xlabel(\"Total Square Feet Area\")\n",
    "    plt.ylabel(\"Price (Lakh Indian Rupees)\")\n",
    "    plt.title(locality)\n",
    "    plt.legend()\n",
    "    \n",
    "plot_scatter_chart(df8,\"Andheri East\")"
   ]
  },
  {
   "cell_type": "code",
   "execution_count": 125,
   "metadata": {},
   "outputs": [
    {
     "data": {
      "image/png": "[encoded data removed]",
      "text/plain": [
       "<Figure size 1080x720 with 1 Axes>"
      ]
     },
     "metadata": {
      "needs_background": "light"
     },
     "output_type": "display_data"
    }
   ],
   "source": [
    "def plot_scatter_chart(df,locality):\n",
    "    bhk2 = df[(df.locality==locality) & (df.bedroom_num==1)]\n",
    "    bhk3 = df[(df.locality==locality) & (df.bedroom_num==2)]\n",
    "    matplotlib.rcParams['figure.figsize'] = (15,10)\n",
    "    plt.scatter(bhk2.area,bhk2.price,color='blue',label='1 BHK', s=50)\n",
    "    plt.scatter(bhk3.area,bhk3.price,marker='+', color='green',label='2 BHK', s=50)\n",
    "    plt.xlabel(\"Total Square Feet Area\")\n",
    "    plt.ylabel(\"Price (Lakh Indian Rupees)\")\n",
    "    plt.title(locality)\n",
    "    plt.legend()\n",
    "    \n",
    "plot_scatter_chart(df8,\"Lokhandwala Complex\")"
   ]
  },
  {
   "cell_type": "code",
   "execution_count": 126,
   "metadata": {},
   "outputs": [
    {
     "data": {
      "text/html": [
       "<div>\n",
       "<style scoped>\n",
       "    .dataframe tbody tr th:only-of-type {\n",
       "        vertical-align: middle;\n",
       "    }\n",
       "\n",
       "    .dataframe tbody tr th {\n",
       "        vertical-align: top;\n",
       "    }\n",
       "\n",
       "    .dataframe thead th {\n",
       "        text-align: right;\n",
       "    }\n",
       "</style>\n",
       "<table border=\"1\" class=\"dataframe\">\n",
       "  <thead>\n",
       "    <tr style=\"text-align: right;\">\n",
       "      <th></th>\n",
       "      <th>area</th>\n",
       "      <th>bathroom_num</th>\n",
       "      <th>bedroom_num</th>\n",
       "      <th>furnishing</th>\n",
       "      <th>locality</th>\n",
       "      <th>price</th>\n",
       "      <th>user_type</th>\n",
       "      <th>price_per_sqft</th>\n",
       "    </tr>\n",
       "  </thead>\n",
       "  <tbody>\n",
       "    <tr>\n",
       "      <td>1</td>\n",
       "      <td>1800.0</td>\n",
       "      <td>4.0</td>\n",
       "      <td>4</td>\n",
       "      <td>Furnished</td>\n",
       "      <td>4 Bunglows</td>\n",
       "      <td>125000</td>\n",
       "      <td>Agent</td>\n",
       "      <td>69.444444</td>\n",
       "    </tr>\n",
       "    <tr>\n",
       "      <td>3</td>\n",
       "      <td>2600.0</td>\n",
       "      <td>4.0</td>\n",
       "      <td>4</td>\n",
       "      <td>Semi-Furnished</td>\n",
       "      <td>4 Bunglows</td>\n",
       "      <td>150000</td>\n",
       "      <td>Agent</td>\n",
       "      <td>57.692308</td>\n",
       "    </tr>\n",
       "    <tr>\n",
       "      <td>5</td>\n",
       "      <td>2572.0</td>\n",
       "      <td>4.0</td>\n",
       "      <td>4</td>\n",
       "      <td>Unfurnished</td>\n",
       "      <td>4 Bunglows</td>\n",
       "      <td>165000</td>\n",
       "      <td>Agent</td>\n",
       "      <td>64.152411</td>\n",
       "    </tr>\n",
       "    <tr>\n",
       "      <td>6</td>\n",
       "      <td>2400.0</td>\n",
       "      <td>4.0</td>\n",
       "      <td>4</td>\n",
       "      <td>Unfurnished</td>\n",
       "      <td>4 Bunglows</td>\n",
       "      <td>165000</td>\n",
       "      <td>Agent</td>\n",
       "      <td>68.750000</td>\n",
       "    </tr>\n",
       "    <tr>\n",
       "      <td>7</td>\n",
       "      <td>450.0</td>\n",
       "      <td>1.0</td>\n",
       "      <td>1</td>\n",
       "      <td>Unfurnished</td>\n",
       "      <td>4 Bunglows</td>\n",
       "      <td>23000</td>\n",
       "      <td>Agent</td>\n",
       "      <td>51.111111</td>\n",
       "    </tr>\n",
       "  </tbody>\n",
       "</table>\n",
       "</div>"
      ],
      "text/plain": [
       "     area  bathroom_num  bedroom_num      furnishing    locality   price  \\\n",
       "1  1800.0           4.0            4       Furnished  4 Bunglows  125000   \n",
       "3  2600.0           4.0            4  Semi-Furnished  4 Bunglows  150000   \n",
       "5  2572.0           4.0            4     Unfurnished  4 Bunglows  165000   \n",
       "6  2400.0           4.0            4     Unfurnished  4 Bunglows  165000   \n",
       "7   450.0           1.0            1     Unfurnished  4 Bunglows   23000   \n",
       "\n",
       "  user_type  price_per_sqft  \n",
       "1     Agent       69.444444  \n",
       "3     Agent       57.692308  \n",
       "5     Agent       64.152411  \n",
       "6     Agent       68.750000  \n",
       "7     Agent       51.111111  "
      ]
     },
     "execution_count": 126,
     "metadata": {},
     "output_type": "execute_result"
    }
   ],
   "source": [
    "df9 = df8.copy()\n",
    "df9.head()"
   ]
  },
  {
   "cell_type": "markdown",
   "metadata": {},
   "source": [
    "# Now lets plot the histogram and visualize the price_per_sqft data after outlier removal"
   ]
  },
  {
   "cell_type": "code",
   "execution_count": 127,
   "metadata": {},
   "outputs": [
    {
     "data": {
      "text/plain": [
       "Text(0, 0.5, 'Count')"
      ]
     },
     "execution_count": 127,
     "metadata": {},
     "output_type": "execute_result"
    },
    {
     "data": {
      "image/png": "[encoded data removed]",
      "text/plain": [
       "<Figure size 1440x720 with 1 Axes>"
      ]
     },
     "metadata": {
      "needs_background": "light"
     },
     "output_type": "display_data"
    }
   ],
   "source": [
    "import matplotlib\n",
    "matplotlib.rcParams[\"figure.figsize\"] = (20,10)\n",
    "plt.hist(df9.price_per_sqft,rwidth=0.8)\n",
    "plt.xlabel(\"Price Per Square Feet\")\n",
    "plt.ylabel(\"Count\")\n"
   ]
  },
  {
   "cell_type": "markdown",
   "metadata": {},
   "source": [
    "# Using domain knowledge for outlier removal"
   ]
  },
  {
   "cell_type": "code",
   "execution_count": 128,
   "metadata": {},
   "outputs": [
    {
     "data": {
      "text/plain": [
       "array([4., 1., 2., 3., 6., 5., 7.])"
      ]
     },
     "execution_count": 128,
     "metadata": {},
     "output_type": "execute_result"
    }
   ],
   "source": [
    "#Generally number of bathrooms per BHK are (no of BHK) + 2.\n",
    "df9['bathroom_num'].unique()\n"
   ]
  },
  {
   "cell_type": "code",
   "execution_count": 133,
   "metadata": {},
   "outputs": [
    {
     "data": {
      "text/html": [
       "<div>\n",
       "<style scoped>\n",
       "    .dataframe tbody tr th:only-of-type {\n",
       "        vertical-align: middle;\n",
       "    }\n",
       "\n",
       "    .dataframe tbody tr th {\n",
       "        vertical-align: top;\n",
       "    }\n",
       "\n",
       "    .dataframe thead th {\n",
       "        text-align: right;\n",
       "    }\n",
       "</style>\n",
       "<table border=\"1\" class=\"dataframe\">\n",
       "  <thead>\n",
       "    <tr style=\"text-align: right;\">\n",
       "      <th></th>\n",
       "      <th>area</th>\n",
       "      <th>bathroom_num</th>\n",
       "      <th>bedroom_num</th>\n",
       "      <th>furnishing</th>\n",
       "      <th>locality</th>\n",
       "      <th>price</th>\n",
       "      <th>user_type</th>\n",
       "      <th>price_per_sqft</th>\n",
       "    </tr>\n",
       "  </thead>\n",
       "  <tbody>\n",
       "    <tr>\n",
       "      <td>1</td>\n",
       "      <td>1800.0</td>\n",
       "      <td>4.0</td>\n",
       "      <td>4</td>\n",
       "      <td>Furnished</td>\n",
       "      <td>4 Bunglows</td>\n",
       "      <td>125000</td>\n",
       "      <td>Agent</td>\n",
       "      <td>69.444444</td>\n",
       "    </tr>\n",
       "    <tr>\n",
       "      <td>3</td>\n",
       "      <td>2600.0</td>\n",
       "      <td>4.0</td>\n",
       "      <td>4</td>\n",
       "      <td>Semi-Furnished</td>\n",
       "      <td>4 Bunglows</td>\n",
       "      <td>150000</td>\n",
       "      <td>Agent</td>\n",
       "      <td>57.692308</td>\n",
       "    </tr>\n",
       "    <tr>\n",
       "      <td>5</td>\n",
       "      <td>2572.0</td>\n",
       "      <td>4.0</td>\n",
       "      <td>4</td>\n",
       "      <td>Unfurnished</td>\n",
       "      <td>4 Bunglows</td>\n",
       "      <td>165000</td>\n",
       "      <td>Agent</td>\n",
       "      <td>64.152411</td>\n",
       "    </tr>\n",
       "    <tr>\n",
       "      <td>6</td>\n",
       "      <td>2400.0</td>\n",
       "      <td>4.0</td>\n",
       "      <td>4</td>\n",
       "      <td>Unfurnished</td>\n",
       "      <td>4 Bunglows</td>\n",
       "      <td>165000</td>\n",
       "      <td>Agent</td>\n",
       "      <td>68.750000</td>\n",
       "    </tr>\n",
       "    <tr>\n",
       "      <td>7</td>\n",
       "      <td>450.0</td>\n",
       "      <td>1.0</td>\n",
       "      <td>1</td>\n",
       "      <td>Unfurnished</td>\n",
       "      <td>4 Bunglows</td>\n",
       "      <td>23000</td>\n",
       "      <td>Agent</td>\n",
       "      <td>51.111111</td>\n",
       "    </tr>\n",
       "  </tbody>\n",
       "</table>\n",
       "</div>"
      ],
      "text/plain": [
       "     area  bathroom_num  bedroom_num      furnishing    locality   price  \\\n",
       "1  1800.0           4.0            4       Furnished  4 Bunglows  125000   \n",
       "3  2600.0           4.0            4  Semi-Furnished  4 Bunglows  150000   \n",
       "5  2572.0           4.0            4     Unfurnished  4 Bunglows  165000   \n",
       "6  2400.0           4.0            4     Unfurnished  4 Bunglows  165000   \n",
       "7   450.0           1.0            1     Unfurnished  4 Bunglows   23000   \n",
       "\n",
       "  user_type  price_per_sqft  \n",
       "1     Agent       69.444444  \n",
       "3     Agent       57.692308  \n",
       "5     Agent       64.152411  \n",
       "6     Agent       68.750000  \n",
       "7     Agent       51.111111  "
      ]
     },
     "execution_count": 133,
     "metadata": {},
     "output_type": "execute_result"
    }
   ],
   "source": [
    "## Get the training examples where no of bath are more than (no of BHK +2)\n",
    "df9[df9['bathroom_num']>df9['bedroom_num']+2]\n",
    "df9.head()"
   ]
  },
  {
   "cell_type": "code",
   "execution_count": 131,
   "metadata": {},
   "outputs": [
    {
     "data": {
      "text/plain": [
       "(16376, 8)"
      ]
     },
     "execution_count": 131,
     "metadata": {},
     "output_type": "execute_result"
    }
   ],
   "source": [
    "# Remove the outliers with more than (no of BHK + 2) bathrooms\n",
    "df9 = df9[df9['bathroom_num']<df9['bedroom_num']+2]\n",
    "df9.shape"
   ]
  },
  {
   "cell_type": "markdown",
   "metadata": {},
   "source": [
    "# This concludes our data cleaning, lets drop unnecessary columns\n",
    "### We have crerated 'price_per_sqft' for outlier detection and removal purpose, so we can also drop it."
   ]
  },
  {
   "cell_type": "code",
   "execution_count": 134,
   "metadata": {},
   "outputs": [
    {
     "data": {
      "text/html": [
       "<div>\n",
       "<style scoped>\n",
       "    .dataframe tbody tr th:only-of-type {\n",
       "        vertical-align: middle;\n",
       "    }\n",
       "\n",
       "    .dataframe tbody tr th {\n",
       "        vertical-align: top;\n",
       "    }\n",
       "\n",
       "    .dataframe thead th {\n",
       "        text-align: right;\n",
       "    }\n",
       "</style>\n",
       "<table border=\"1\" class=\"dataframe\">\n",
       "  <thead>\n",
       "    <tr style=\"text-align: right;\">\n",
       "      <th></th>\n",
       "      <th>area</th>\n",
       "      <th>bathroom_num</th>\n",
       "      <th>bedroom_num</th>\n",
       "      <th>furnishing</th>\n",
       "      <th>locality</th>\n",
       "      <th>price</th>\n",
       "    </tr>\n",
       "  </thead>\n",
       "  <tbody>\n",
       "    <tr>\n",
       "      <td>1</td>\n",
       "      <td>1800.0</td>\n",
       "      <td>4.0</td>\n",
       "      <td>4</td>\n",
       "      <td>Furnished</td>\n",
       "      <td>4 Bunglows</td>\n",
       "      <td>125000</td>\n",
       "    </tr>\n",
       "    <tr>\n",
       "      <td>3</td>\n",
       "      <td>2600.0</td>\n",
       "      <td>4.0</td>\n",
       "      <td>4</td>\n",
       "      <td>Semi-Furnished</td>\n",
       "      <td>4 Bunglows</td>\n",
       "      <td>150000</td>\n",
       "    </tr>\n",
       "    <tr>\n",
       "      <td>5</td>\n",
       "      <td>2572.0</td>\n",
       "      <td>4.0</td>\n",
       "      <td>4</td>\n",
       "      <td>Unfurnished</td>\n",
       "      <td>4 Bunglows</td>\n",
       "      <td>165000</td>\n",
       "    </tr>\n",
       "    <tr>\n",
       "      <td>6</td>\n",
       "      <td>2400.0</td>\n",
       "      <td>4.0</td>\n",
       "      <td>4</td>\n",
       "      <td>Unfurnished</td>\n",
       "      <td>4 Bunglows</td>\n",
       "      <td>165000</td>\n",
       "    </tr>\n",
       "    <tr>\n",
       "      <td>7</td>\n",
       "      <td>450.0</td>\n",
       "      <td>1.0</td>\n",
       "      <td>1</td>\n",
       "      <td>Unfurnished</td>\n",
       "      <td>4 Bunglows</td>\n",
       "      <td>23000</td>\n",
       "    </tr>\n",
       "  </tbody>\n",
       "</table>\n",
       "</div>"
      ],
      "text/plain": [
       "     area  bathroom_num  bedroom_num      furnishing    locality   price\n",
       "1  1800.0           4.0            4       Furnished  4 Bunglows  125000\n",
       "3  2600.0           4.0            4  Semi-Furnished  4 Bunglows  150000\n",
       "5  2572.0           4.0            4     Unfurnished  4 Bunglows  165000\n",
       "6  2400.0           4.0            4     Unfurnished  4 Bunglows  165000\n",
       "7   450.0           1.0            1     Unfurnished  4 Bunglows   23000"
      ]
     },
     "execution_count": 134,
     "metadata": {},
     "output_type": "execute_result"
    }
   ],
   "source": [
    "df10 = df9.drop(['price_per_sqft','user_type'],axis='columns')\n",
    "df10.head()"
   ]
  },
  {
   "cell_type": "code",
   "execution_count": 135,
   "metadata": {},
   "outputs": [
    {
     "data": {
      "text/plain": [
       "array(['Furnished', 'Semi-Furnished', 'Unfurnished'], dtype=object)"
      ]
     },
     "execution_count": 135,
     "metadata": {},
     "output_type": "execute_result"
    }
   ],
   "source": [
    "df10['furnishing'].unique()"
   ]
  },
  {
   "cell_type": "code",
   "execution_count": 136,
   "metadata": {},
   "outputs": [],
   "source": [
    "df11 = df10.copy()"
   ]
  },
  {
   "cell_type": "code",
   "execution_count": 137,
   "metadata": {},
   "outputs": [],
   "source": [
    "from sklearn.preprocessing import LabelEncoder\n",
    "le = LabelEncoder()"
   ]
  },
  {
   "cell_type": "code",
   "execution_count": 138,
   "metadata": {},
   "outputs": [
    {
     "data": {
      "text/plain": [
       "array([0, 1, 2], dtype=int64)"
      ]
     },
     "execution_count": 138,
     "metadata": {},
     "output_type": "execute_result"
    }
   ],
   "source": [
    "df11['furnishing']= le.fit_transform(df10['furnishing']) \n",
    "df11['furnishing'].unique()"
   ]
  },
  {
   "cell_type": "code",
   "execution_count": 139,
   "metadata": {},
   "outputs": [
    {
     "data": {
      "text/html": [
       "<div>\n",
       "<style scoped>\n",
       "    .dataframe tbody tr th:only-of-type {\n",
       "        vertical-align: middle;\n",
       "    }\n",
       "\n",
       "    .dataframe tbody tr th {\n",
       "        vertical-align: top;\n",
       "    }\n",
       "\n",
       "    .dataframe thead th {\n",
       "        text-align: right;\n",
       "    }\n",
       "</style>\n",
       "<table border=\"1\" class=\"dataframe\">\n",
       "  <thead>\n",
       "    <tr style=\"text-align: right;\">\n",
       "      <th></th>\n",
       "      <th>area</th>\n",
       "      <th>bathroom_num</th>\n",
       "      <th>bedroom_num</th>\n",
       "      <th>furnishing</th>\n",
       "      <th>locality</th>\n",
       "      <th>price</th>\n",
       "    </tr>\n",
       "  </thead>\n",
       "  <tbody>\n",
       "    <tr>\n",
       "      <td>1</td>\n",
       "      <td>1800.0</td>\n",
       "      <td>4.0</td>\n",
       "      <td>4</td>\n",
       "      <td>0</td>\n",
       "      <td>4 Bunglows</td>\n",
       "      <td>125000</td>\n",
       "    </tr>\n",
       "    <tr>\n",
       "      <td>3</td>\n",
       "      <td>2600.0</td>\n",
       "      <td>4.0</td>\n",
       "      <td>4</td>\n",
       "      <td>1</td>\n",
       "      <td>4 Bunglows</td>\n",
       "      <td>150000</td>\n",
       "    </tr>\n",
       "    <tr>\n",
       "      <td>5</td>\n",
       "      <td>2572.0</td>\n",
       "      <td>4.0</td>\n",
       "      <td>4</td>\n",
       "      <td>2</td>\n",
       "      <td>4 Bunglows</td>\n",
       "      <td>165000</td>\n",
       "    </tr>\n",
       "    <tr>\n",
       "      <td>6</td>\n",
       "      <td>2400.0</td>\n",
       "      <td>4.0</td>\n",
       "      <td>4</td>\n",
       "      <td>2</td>\n",
       "      <td>4 Bunglows</td>\n",
       "      <td>165000</td>\n",
       "    </tr>\n",
       "    <tr>\n",
       "      <td>7</td>\n",
       "      <td>450.0</td>\n",
       "      <td>1.0</td>\n",
       "      <td>1</td>\n",
       "      <td>2</td>\n",
       "      <td>4 Bunglows</td>\n",
       "      <td>23000</td>\n",
       "    </tr>\n",
       "  </tbody>\n",
       "</table>\n",
       "</div>"
      ],
      "text/plain": [
       "     area  bathroom_num  bedroom_num  furnishing    locality   price\n",
       "1  1800.0           4.0            4           0  4 Bunglows  125000\n",
       "3  2600.0           4.0            4           1  4 Bunglows  150000\n",
       "5  2572.0           4.0            4           2  4 Bunglows  165000\n",
       "6  2400.0           4.0            4           2  4 Bunglows  165000\n",
       "7   450.0           1.0            1           2  4 Bunglows   23000"
      ]
     },
     "execution_count": 139,
     "metadata": {},
     "output_type": "execute_result"
    }
   ],
   "source": [
    "df11.head()"
   ]
  },
  {
   "cell_type": "code",
   "execution_count": 140,
   "metadata": {},
   "outputs": [
    {
     "data": {
      "text/html": [
       "<div>\n",
       "<style scoped>\n",
       "    .dataframe tbody tr th:only-of-type {\n",
       "        vertical-align: middle;\n",
       "    }\n",
       "\n",
       "    .dataframe tbody tr th {\n",
       "        vertical-align: top;\n",
       "    }\n",
       "\n",
       "    .dataframe thead th {\n",
       "        text-align: right;\n",
       "    }\n",
       "</style>\n",
       "<table border=\"1\" class=\"dataframe\">\n",
       "  <thead>\n",
       "    <tr style=\"text-align: right;\">\n",
       "      <th></th>\n",
       "      <th>4 Bunglows</th>\n",
       "      <th>Aarey Milk Colony</th>\n",
       "      <th>Abhinav Nagar</th>\n",
       "      <th>Agripada</th>\n",
       "      <th>Akurli Nagar</th>\n",
       "      <th>Alika Nagar</th>\n",
       "      <th>Altamount Road</th>\n",
       "      <th>Amboli</th>\n",
       "      <th>Andheri East</th>\n",
       "      <th>Andheri West</th>\n",
       "      <th>...</th>\n",
       "      <th>Walkeshwar</th>\n",
       "      <th>Waterfield Road</th>\n",
       "      <th>World Trade Centre</th>\n",
       "      <th>Worli</th>\n",
       "      <th>Worli Hill</th>\n",
       "      <th>Worli Naka Acharaya Atre Chowk</th>\n",
       "      <th>Worli Sea Face</th>\n",
       "      <th>Yari Road</th>\n",
       "      <th>Yeshodham</th>\n",
       "      <th>other</th>\n",
       "    </tr>\n",
       "  </thead>\n",
       "  <tbody>\n",
       "    <tr>\n",
       "      <td>1</td>\n",
       "      <td>1</td>\n",
       "      <td>0</td>\n",
       "      <td>0</td>\n",
       "      <td>0</td>\n",
       "      <td>0</td>\n",
       "      <td>0</td>\n",
       "      <td>0</td>\n",
       "      <td>0</td>\n",
       "      <td>0</td>\n",
       "      <td>0</td>\n",
       "      <td>...</td>\n",
       "      <td>0</td>\n",
       "      <td>0</td>\n",
       "      <td>0</td>\n",
       "      <td>0</td>\n",
       "      <td>0</td>\n",
       "      <td>0</td>\n",
       "      <td>0</td>\n",
       "      <td>0</td>\n",
       "      <td>0</td>\n",
       "      <td>0</td>\n",
       "    </tr>\n",
       "    <tr>\n",
       "      <td>3</td>\n",
       "      <td>1</td>\n",
       "      <td>0</td>\n",
       "      <td>0</td>\n",
       "      <td>0</td>\n",
       "      <td>0</td>\n",
       "      <td>0</td>\n",
       "      <td>0</td>\n",
       "      <td>0</td>\n",
       "      <td>0</td>\n",
       "      <td>0</td>\n",
       "      <td>...</td>\n",
       "      <td>0</td>\n",
       "      <td>0</td>\n",
       "      <td>0</td>\n",
       "      <td>0</td>\n",
       "      <td>0</td>\n",
       "      <td>0</td>\n",
       "      <td>0</td>\n",
       "      <td>0</td>\n",
       "      <td>0</td>\n",
       "      <td>0</td>\n",
       "    </tr>\n",
       "    <tr>\n",
       "      <td>5</td>\n",
       "      <td>1</td>\n",
       "      <td>0</td>\n",
       "      <td>0</td>\n",
       "      <td>0</td>\n",
       "      <td>0</td>\n",
       "      <td>0</td>\n",
       "      <td>0</td>\n",
       "      <td>0</td>\n",
       "      <td>0</td>\n",
       "      <td>0</td>\n",
       "      <td>...</td>\n",
       "      <td>0</td>\n",
       "      <td>0</td>\n",
       "      <td>0</td>\n",
       "      <td>0</td>\n",
       "      <td>0</td>\n",
       "      <td>0</td>\n",
       "      <td>0</td>\n",
       "      <td>0</td>\n",
       "      <td>0</td>\n",
       "      <td>0</td>\n",
       "    </tr>\n",
       "  </tbody>\n",
       "</table>\n",
       "<p>3 rows × 275 columns</p>\n",
       "</div>"
      ],
      "text/plain": [
       "   4 Bunglows  Aarey Milk Colony  Abhinav Nagar  Agripada  Akurli Nagar  \\\n",
       "1           1                  0              0         0             0   \n",
       "3           1                  0              0         0             0   \n",
       "5           1                  0              0         0             0   \n",
       "\n",
       "   Alika Nagar  Altamount Road  Amboli  Andheri East  Andheri West  ...  \\\n",
       "1            0               0       0             0             0  ...   \n",
       "3            0               0       0             0             0  ...   \n",
       "5            0               0       0             0             0  ...   \n",
       "\n",
       "   Walkeshwar  Waterfield Road  World Trade Centre  Worli  Worli Hill  \\\n",
       "1           0                0                   0      0           0   \n",
       "3           0                0                   0      0           0   \n",
       "5           0                0                   0      0           0   \n",
       "\n",
       "   Worli Naka Acharaya Atre Chowk  Worli Sea Face  Yari Road  Yeshodham  other  \n",
       "1                               0               0          0          0      0  \n",
       "3                               0               0          0          0      0  \n",
       "5                               0               0          0          0      0  \n",
       "\n",
       "[3 rows x 275 columns]"
      ]
     },
     "execution_count": 140,
     "metadata": {},
     "output_type": "execute_result"
    }
   ],
   "source": [
    "# since we have locality as categorical feature we use one hot encoding to create seperate column for each location category and assign binary value 1 or 0\n",
    "dummies = pd.get_dummies(df11.locality)\n",
    "dummies.head(3)\n"
   ]
  },
  {
   "cell_type": "code",
   "execution_count": 141,
   "metadata": {},
   "outputs": [
    {
     "data": {
      "text/html": [
       "<div>\n",
       "<style scoped>\n",
       "    .dataframe tbody tr th:only-of-type {\n",
       "        vertical-align: middle;\n",
       "    }\n",
       "\n",
       "    .dataframe tbody tr th {\n",
       "        vertical-align: top;\n",
       "    }\n",
       "\n",
       "    .dataframe thead th {\n",
       "        text-align: right;\n",
       "    }\n",
       "</style>\n",
       "<table border=\"1\" class=\"dataframe\">\n",
       "  <thead>\n",
       "    <tr style=\"text-align: right;\">\n",
       "      <th></th>\n",
       "      <th>area</th>\n",
       "      <th>bathroom_num</th>\n",
       "      <th>bedroom_num</th>\n",
       "      <th>furnishing</th>\n",
       "      <th>locality</th>\n",
       "      <th>price</th>\n",
       "      <th>4 Bunglows</th>\n",
       "      <th>Aarey Milk Colony</th>\n",
       "      <th>Abhinav Nagar</th>\n",
       "      <th>Agripada</th>\n",
       "      <th>...</th>\n",
       "      <th>Wadala West</th>\n",
       "      <th>Walkeshwar</th>\n",
       "      <th>Waterfield Road</th>\n",
       "      <th>World Trade Centre</th>\n",
       "      <th>Worli</th>\n",
       "      <th>Worli Hill</th>\n",
       "      <th>Worli Naka Acharaya Atre Chowk</th>\n",
       "      <th>Worli Sea Face</th>\n",
       "      <th>Yari Road</th>\n",
       "      <th>Yeshodham</th>\n",
       "    </tr>\n",
       "  </thead>\n",
       "  <tbody>\n",
       "    <tr>\n",
       "      <td>1</td>\n",
       "      <td>1800.0</td>\n",
       "      <td>4.0</td>\n",
       "      <td>4</td>\n",
       "      <td>0</td>\n",
       "      <td>4 Bunglows</td>\n",
       "      <td>125000</td>\n",
       "      <td>1</td>\n",
       "      <td>0</td>\n",
       "      <td>0</td>\n",
       "      <td>0</td>\n",
       "      <td>...</td>\n",
       "      <td>0</td>\n",
       "      <td>0</td>\n",
       "      <td>0</td>\n",
       "      <td>0</td>\n",
       "      <td>0</td>\n",
       "      <td>0</td>\n",
       "      <td>0</td>\n",
       "      <td>0</td>\n",
       "      <td>0</td>\n",
       "      <td>0</td>\n",
       "    </tr>\n",
       "    <tr>\n",
       "      <td>3</td>\n",
       "      <td>2600.0</td>\n",
       "      <td>4.0</td>\n",
       "      <td>4</td>\n",
       "      <td>1</td>\n",
       "      <td>4 Bunglows</td>\n",
       "      <td>150000</td>\n",
       "      <td>1</td>\n",
       "      <td>0</td>\n",
       "      <td>0</td>\n",
       "      <td>0</td>\n",
       "      <td>...</td>\n",
       "      <td>0</td>\n",
       "      <td>0</td>\n",
       "      <td>0</td>\n",
       "      <td>0</td>\n",
       "      <td>0</td>\n",
       "      <td>0</td>\n",
       "      <td>0</td>\n",
       "      <td>0</td>\n",
       "      <td>0</td>\n",
       "      <td>0</td>\n",
       "    </tr>\n",
       "    <tr>\n",
       "      <td>5</td>\n",
       "      <td>2572.0</td>\n",
       "      <td>4.0</td>\n",
       "      <td>4</td>\n",
       "      <td>2</td>\n",
       "      <td>4 Bunglows</td>\n",
       "      <td>165000</td>\n",
       "      <td>1</td>\n",
       "      <td>0</td>\n",
       "      <td>0</td>\n",
       "      <td>0</td>\n",
       "      <td>...</td>\n",
       "      <td>0</td>\n",
       "      <td>0</td>\n",
       "      <td>0</td>\n",
       "      <td>0</td>\n",
       "      <td>0</td>\n",
       "      <td>0</td>\n",
       "      <td>0</td>\n",
       "      <td>0</td>\n",
       "      <td>0</td>\n",
       "      <td>0</td>\n",
       "    </tr>\n",
       "    <tr>\n",
       "      <td>6</td>\n",
       "      <td>2400.0</td>\n",
       "      <td>4.0</td>\n",
       "      <td>4</td>\n",
       "      <td>2</td>\n",
       "      <td>4 Bunglows</td>\n",
       "      <td>165000</td>\n",
       "      <td>1</td>\n",
       "      <td>0</td>\n",
       "      <td>0</td>\n",
       "      <td>0</td>\n",
       "      <td>...</td>\n",
       "      <td>0</td>\n",
       "      <td>0</td>\n",
       "      <td>0</td>\n",
       "      <td>0</td>\n",
       "      <td>0</td>\n",
       "      <td>0</td>\n",
       "      <td>0</td>\n",
       "      <td>0</td>\n",
       "      <td>0</td>\n",
       "      <td>0</td>\n",
       "    </tr>\n",
       "    <tr>\n",
       "      <td>7</td>\n",
       "      <td>450.0</td>\n",
       "      <td>1.0</td>\n",
       "      <td>1</td>\n",
       "      <td>2</td>\n",
       "      <td>4 Bunglows</td>\n",
       "      <td>23000</td>\n",
       "      <td>1</td>\n",
       "      <td>0</td>\n",
       "      <td>0</td>\n",
       "      <td>0</td>\n",
       "      <td>...</td>\n",
       "      <td>0</td>\n",
       "      <td>0</td>\n",
       "      <td>0</td>\n",
       "      <td>0</td>\n",
       "      <td>0</td>\n",
       "      <td>0</td>\n",
       "      <td>0</td>\n",
       "      <td>0</td>\n",
       "      <td>0</td>\n",
       "      <td>0</td>\n",
       "    </tr>\n",
       "  </tbody>\n",
       "</table>\n",
       "<p>5 rows × 280 columns</p>\n",
       "</div>"
      ],
      "text/plain": [
       "     area  bathroom_num  bedroom_num  furnishing    locality   price  \\\n",
       "1  1800.0           4.0            4           0  4 Bunglows  125000   \n",
       "3  2600.0           4.0            4           1  4 Bunglows  150000   \n",
       "5  2572.0           4.0            4           2  4 Bunglows  165000   \n",
       "6  2400.0           4.0            4           2  4 Bunglows  165000   \n",
       "7   450.0           1.0            1           2  4 Bunglows   23000   \n",
       "\n",
       "   4 Bunglows  Aarey Milk Colony  Abhinav Nagar  Agripada  ...  Wadala West  \\\n",
       "1           1                  0              0         0  ...            0   \n",
       "3           1                  0              0         0  ...            0   \n",
       "5           1                  0              0         0  ...            0   \n",
       "6           1                  0              0         0  ...            0   \n",
       "7           1                  0              0         0  ...            0   \n",
       "\n",
       "   Walkeshwar  Waterfield Road  World Trade Centre  Worli  Worli Hill  \\\n",
       "1           0                0                   0      0           0   \n",
       "3           0                0                   0      0           0   \n",
       "5           0                0                   0      0           0   \n",
       "6           0                0                   0      0           0   \n",
       "7           0                0                   0      0           0   \n",
       "\n",
       "   Worli Naka Acharaya Atre Chowk  Worli Sea Face  Yari Road  Yeshodham  \n",
       "1                               0               0          0          0  \n",
       "3                               0               0          0          0  \n",
       "5                               0               0          0          0  \n",
       "6                               0               0          0          0  \n",
       "7                               0               0          0          0  \n",
       "\n",
       "[5 rows x 280 columns]"
      ]
     },
     "execution_count": 141,
     "metadata": {},
     "output_type": "execute_result"
    }
   ],
   "source": [
    "#Now lets add dummies dataframe to original dataframe\n",
    "df11 = pd.concat([df11,dummies.drop('other',axis='columns')],axis='columns')\n",
    "df11.head()\n"
   ]
  },
  {
   "cell_type": "code",
   "execution_count": 142,
   "metadata": {},
   "outputs": [
    {
     "data": {
      "text/html": [
       "<div>\n",
       "<style scoped>\n",
       "    .dataframe tbody tr th:only-of-type {\n",
       "        vertical-align: middle;\n",
       "    }\n",
       "\n",
       "    .dataframe tbody tr th {\n",
       "        vertical-align: top;\n",
       "    }\n",
       "\n",
       "    .dataframe thead th {\n",
       "        text-align: right;\n",
       "    }\n",
       "</style>\n",
       "<table border=\"1\" class=\"dataframe\">\n",
       "  <thead>\n",
       "    <tr style=\"text-align: right;\">\n",
       "      <th></th>\n",
       "      <th>area</th>\n",
       "      <th>bathroom_num</th>\n",
       "      <th>bedroom_num</th>\n",
       "      <th>furnishing</th>\n",
       "      <th>price</th>\n",
       "      <th>4 Bunglows</th>\n",
       "      <th>Aarey Milk Colony</th>\n",
       "      <th>Abhinav Nagar</th>\n",
       "      <th>Agripada</th>\n",
       "      <th>Akurli Nagar</th>\n",
       "      <th>...</th>\n",
       "      <th>Wadala West</th>\n",
       "      <th>Walkeshwar</th>\n",
       "      <th>Waterfield Road</th>\n",
       "      <th>World Trade Centre</th>\n",
       "      <th>Worli</th>\n",
       "      <th>Worli Hill</th>\n",
       "      <th>Worli Naka Acharaya Atre Chowk</th>\n",
       "      <th>Worli Sea Face</th>\n",
       "      <th>Yari Road</th>\n",
       "      <th>Yeshodham</th>\n",
       "    </tr>\n",
       "  </thead>\n",
       "  <tbody>\n",
       "    <tr>\n",
       "      <td>1</td>\n",
       "      <td>1800.0</td>\n",
       "      <td>4.0</td>\n",
       "      <td>4</td>\n",
       "      <td>0</td>\n",
       "      <td>125000</td>\n",
       "      <td>1</td>\n",
       "      <td>0</td>\n",
       "      <td>0</td>\n",
       "      <td>0</td>\n",
       "      <td>0</td>\n",
       "      <td>...</td>\n",
       "      <td>0</td>\n",
       "      <td>0</td>\n",
       "      <td>0</td>\n",
       "      <td>0</td>\n",
       "      <td>0</td>\n",
       "      <td>0</td>\n",
       "      <td>0</td>\n",
       "      <td>0</td>\n",
       "      <td>0</td>\n",
       "      <td>0</td>\n",
       "    </tr>\n",
       "    <tr>\n",
       "      <td>3</td>\n",
       "      <td>2600.0</td>\n",
       "      <td>4.0</td>\n",
       "      <td>4</td>\n",
       "      <td>1</td>\n",
       "      <td>150000</td>\n",
       "      <td>1</td>\n",
       "      <td>0</td>\n",
       "      <td>0</td>\n",
       "      <td>0</td>\n",
       "      <td>0</td>\n",
       "      <td>...</td>\n",
       "      <td>0</td>\n",
       "      <td>0</td>\n",
       "      <td>0</td>\n",
       "      <td>0</td>\n",
       "      <td>0</td>\n",
       "      <td>0</td>\n",
       "      <td>0</td>\n",
       "      <td>0</td>\n",
       "      <td>0</td>\n",
       "      <td>0</td>\n",
       "    </tr>\n",
       "  </tbody>\n",
       "</table>\n",
       "<p>2 rows × 279 columns</p>\n",
       "</div>"
      ],
      "text/plain": [
       "     area  bathroom_num  bedroom_num  furnishing   price  4 Bunglows  \\\n",
       "1  1800.0           4.0            4           0  125000           1   \n",
       "3  2600.0           4.0            4           1  150000           1   \n",
       "\n",
       "   Aarey Milk Colony  Abhinav Nagar  Agripada  Akurli Nagar  ...  Wadala West  \\\n",
       "1                  0              0         0             0  ...            0   \n",
       "3                  0              0         0             0  ...            0   \n",
       "\n",
       "   Walkeshwar  Waterfield Road  World Trade Centre  Worli  Worli Hill  \\\n",
       "1           0                0                   0      0           0   \n",
       "3           0                0                   0      0           0   \n",
       "\n",
       "   Worli Naka Acharaya Atre Chowk  Worli Sea Face  Yari Road  Yeshodham  \n",
       "1                               0               0          0          0  \n",
       "3                               0               0          0          0  \n",
       "\n",
       "[2 rows x 279 columns]"
      ]
     },
     "execution_count": 142,
     "metadata": {},
     "output_type": "execute_result"
    }
   ],
   "source": [
    "#To avoid dummy variable trap problem lets delete the one of the dummy variable column\n",
    "df12 = df11.drop('locality',axis='columns')\n",
    "df12.head(2)\n"
   ]
  },
  {
   "cell_type": "code",
   "execution_count": 143,
   "metadata": {},
   "outputs": [
    {
     "data": {
      "text/plain": [
       "(16376, 279)"
      ]
     },
     "execution_count": 143,
     "metadata": {},
     "output_type": "execute_result"
    }
   ],
   "source": [
    "df12.shape"
   ]
  },
  {
   "cell_type": "code",
   "execution_count": 144,
   "metadata": {},
   "outputs": [
    {
     "data": {
      "text/html": [
       "<div>\n",
       "<style scoped>\n",
       "    .dataframe tbody tr th:only-of-type {\n",
       "        vertical-align: middle;\n",
       "    }\n",
       "\n",
       "    .dataframe tbody tr th {\n",
       "        vertical-align: top;\n",
       "    }\n",
       "\n",
       "    .dataframe thead th {\n",
       "        text-align: right;\n",
       "    }\n",
       "</style>\n",
       "<table border=\"1\" class=\"dataframe\">\n",
       "  <thead>\n",
       "    <tr style=\"text-align: right;\">\n",
       "      <th></th>\n",
       "      <th>area</th>\n",
       "      <th>bathroom_num</th>\n",
       "      <th>bedroom_num</th>\n",
       "      <th>furnishing</th>\n",
       "      <th>4 Bunglows</th>\n",
       "      <th>Aarey Milk Colony</th>\n",
       "      <th>Abhinav Nagar</th>\n",
       "      <th>Agripada</th>\n",
       "      <th>Akurli Nagar</th>\n",
       "      <th>Alika Nagar</th>\n",
       "      <th>...</th>\n",
       "      <th>Wadala West</th>\n",
       "      <th>Walkeshwar</th>\n",
       "      <th>Waterfield Road</th>\n",
       "      <th>World Trade Centre</th>\n",
       "      <th>Worli</th>\n",
       "      <th>Worli Hill</th>\n",
       "      <th>Worli Naka Acharaya Atre Chowk</th>\n",
       "      <th>Worli Sea Face</th>\n",
       "      <th>Yari Road</th>\n",
       "      <th>Yeshodham</th>\n",
       "    </tr>\n",
       "  </thead>\n",
       "  <tbody>\n",
       "    <tr>\n",
       "      <td>1</td>\n",
       "      <td>1800.0</td>\n",
       "      <td>4.0</td>\n",
       "      <td>4</td>\n",
       "      <td>0</td>\n",
       "      <td>1</td>\n",
       "      <td>0</td>\n",
       "      <td>0</td>\n",
       "      <td>0</td>\n",
       "      <td>0</td>\n",
       "      <td>0</td>\n",
       "      <td>...</td>\n",
       "      <td>0</td>\n",
       "      <td>0</td>\n",
       "      <td>0</td>\n",
       "      <td>0</td>\n",
       "      <td>0</td>\n",
       "      <td>0</td>\n",
       "      <td>0</td>\n",
       "      <td>0</td>\n",
       "      <td>0</td>\n",
       "      <td>0</td>\n",
       "    </tr>\n",
       "    <tr>\n",
       "      <td>3</td>\n",
       "      <td>2600.0</td>\n",
       "      <td>4.0</td>\n",
       "      <td>4</td>\n",
       "      <td>1</td>\n",
       "      <td>1</td>\n",
       "      <td>0</td>\n",
       "      <td>0</td>\n",
       "      <td>0</td>\n",
       "      <td>0</td>\n",
       "      <td>0</td>\n",
       "      <td>...</td>\n",
       "      <td>0</td>\n",
       "      <td>0</td>\n",
       "      <td>0</td>\n",
       "      <td>0</td>\n",
       "      <td>0</td>\n",
       "      <td>0</td>\n",
       "      <td>0</td>\n",
       "      <td>0</td>\n",
       "      <td>0</td>\n",
       "      <td>0</td>\n",
       "    </tr>\n",
       "    <tr>\n",
       "      <td>5</td>\n",
       "      <td>2572.0</td>\n",
       "      <td>4.0</td>\n",
       "      <td>4</td>\n",
       "      <td>2</td>\n",
       "      <td>1</td>\n",
       "      <td>0</td>\n",
       "      <td>0</td>\n",
       "      <td>0</td>\n",
       "      <td>0</td>\n",
       "      <td>0</td>\n",
       "      <td>...</td>\n",
       "      <td>0</td>\n",
       "      <td>0</td>\n",
       "      <td>0</td>\n",
       "      <td>0</td>\n",
       "      <td>0</td>\n",
       "      <td>0</td>\n",
       "      <td>0</td>\n",
       "      <td>0</td>\n",
       "      <td>0</td>\n",
       "      <td>0</td>\n",
       "    </tr>\n",
       "  </tbody>\n",
       "</table>\n",
       "<p>3 rows × 278 columns</p>\n",
       "</div>"
      ],
      "text/plain": [
       "     area  bathroom_num  bedroom_num  furnishing  4 Bunglows  \\\n",
       "1  1800.0           4.0            4           0           1   \n",
       "3  2600.0           4.0            4           1           1   \n",
       "5  2572.0           4.0            4           2           1   \n",
       "\n",
       "   Aarey Milk Colony  Abhinav Nagar  Agripada  Akurli Nagar  Alika Nagar  ...  \\\n",
       "1                  0              0         0             0            0  ...   \n",
       "3                  0              0         0             0            0  ...   \n",
       "5                  0              0         0             0            0  ...   \n",
       "\n",
       "   Wadala West  Walkeshwar  Waterfield Road  World Trade Centre  Worli  \\\n",
       "1            0           0                0                   0      0   \n",
       "3            0           0                0                   0      0   \n",
       "5            0           0                0                   0      0   \n",
       "\n",
       "   Worli Hill  Worli Naka Acharaya Atre Chowk  Worli Sea Face  Yari Road  \\\n",
       "1           0                               0               0          0   \n",
       "3           0                               0               0          0   \n",
       "5           0                               0               0          0   \n",
       "\n",
       "   Yeshodham  \n",
       "1          0  \n",
       "3          0  \n",
       "5          0  \n",
       "\n",
       "[3 rows x 278 columns]"
      ]
     },
     "execution_count": 144,
     "metadata": {},
     "output_type": "execute_result"
    }
   ],
   "source": [
    "#Now leats create X(independent variable/features) and y(dependent variables/target)\n",
    "X = df12.drop(['price'],axis='columns')\n",
    "X.head(3)"
   ]
  },
  {
   "cell_type": "code",
   "execution_count": 145,
   "metadata": {},
   "outputs": [
    {
     "data": {
      "text/plain": [
       "(16376, 278)"
      ]
     },
     "execution_count": 145,
     "metadata": {},
     "output_type": "execute_result"
    }
   ],
   "source": [
    "X.shape"
   ]
  },
  {
   "cell_type": "code",
   "execution_count": 146,
   "metadata": {},
   "outputs": [
    {
     "data": {
      "text/plain": [
       "1    125000\n",
       "3    150000\n",
       "5    165000\n",
       "Name: price, dtype: int64"
      ]
     },
     "execution_count": 146,
     "metadata": {},
     "output_type": "execute_result"
    }
   ],
   "source": [
    "y = df12.price\n",
    "y.head(3)"
   ]
  },
  {
   "cell_type": "code",
   "execution_count": 147,
   "metadata": {},
   "outputs": [
    {
     "data": {
      "text/plain": [
       "16376"
      ]
     },
     "execution_count": 147,
     "metadata": {},
     "output_type": "execute_result"
    }
   ],
   "source": [
    "len(y)"
   ]
  },
  {
   "cell_type": "markdown",
   "metadata": {},
   "source": [
    "# Split the dataset to training andtest dataset"
   ]
  },
  {
   "cell_type": "code",
   "execution_count": 152,
   "metadata": {},
   "outputs": [],
   "source": [
    "from sklearn.model_selection import train_test_split\n",
    "X_train, X_test, y_train, y_test = train_test_split(X,y,test_size=0.2,random_state=10)"
   ]
  },
  {
   "cell_type": "markdown",
   "metadata": {},
   "source": [
    "# Linear Regression"
   ]
  },
  {
   "cell_type": "code",
   "execution_count": 156,
   "metadata": {},
   "outputs": [
    {
     "data": {
      "text/plain": [
       "LinearRegression(copy_X=True, fit_intercept=True, n_jobs=None, normalize=False)"
      ]
     },
     "execution_count": 156,
     "metadata": {},
     "output_type": "execute_result"
    }
   ],
   "source": [
    "#Lets test the score with LinearRegression model\n",
    "from sklearn.linear_model import LinearRegression\n",
    "lr_clf = LinearRegression()\n",
    "lr_clf.fit(X_train,y_train)\n"
   ]
  },
  {
   "cell_type": "code",
   "execution_count": 157,
   "metadata": {},
   "outputs": [
    {
     "data": {
      "text/plain": [
       "0.9165351367392474"
      ]
     },
     "execution_count": 157,
     "metadata": {},
     "output_type": "execute_result"
    }
   ],
   "source": [
    "lr_clf.score(X_test,y_test)"
   ]
  },
  {
   "cell_type": "code",
   "execution_count": 158,
   "metadata": {},
   "outputs": [
    {
     "data": {
      "text/plain": [
       "<matplotlib.collections.PathCollection at 0x15ec1670>"
      ]
     },
     "execution_count": 158,
     "metadata": {},
     "output_type": "execute_result"
    },
    {
     "data": {
      "image/png": "[encoded data removed]",
      "text/plain": [
       "<Figure size 1440x720 with 1 Axes>"
      ]
     },
     "metadata": {
      "needs_background": "light"
     },
     "output_type": "display_data"
    }
   ],
   "source": [
    "#Predictions from our Linear Regression Model\n",
    "predictions = lr_clf.predict(X_test)\n",
    "plt.scatter(y_test,predictions)"
   ]
  },
  {
   "cell_type": "code",
   "execution_count": 159,
   "metadata": {},
   "outputs": [
    {
     "data": {
      "image/png": "[encoded data removed]",
      "text/plain": [
       "<Figure size 1440x720 with 1 Axes>"
      ]
     },
     "metadata": {
      "needs_background": "light"
     },
     "output_type": "display_data"
    }
   ],
   "source": [
    "sns.distplot((y_test-predictions),bins=50);"
   ]
  },
  {
   "cell_type": "markdown",
   "metadata": {},
   "source": [
    "# Use K Fold cross validation to measure accuracy of our LinearRegression model\n",
    "## Using Sklearn cross_val_score function"
   ]
  },
  {
   "cell_type": "code",
   "execution_count": 160,
   "metadata": {},
   "outputs": [],
   "source": [
    "from sklearn.model_selection import ShuffleSplit\n",
    "from sklearn.model_selection import cross_val_score"
   ]
  },
  {
   "cell_type": "code",
   "execution_count": 161,
   "metadata": {},
   "outputs": [
    {
     "data": {
      "text/plain": [
       "array([0.91354337, 0.91321954, 0.91264911, 0.91376545, 0.90433215])"
      ]
     },
     "execution_count": 161,
     "metadata": {},
     "output_type": "execute_result"
    }
   ],
   "source": [
    "# ShuffleSplit is used to randomize the each fold\n",
    "cv = ShuffleSplit(n_splits=5, test_size=0.2, random_state=0)\n",
    "cross_val_score(LinearRegression(), X, y, cv=cv)"
   ]
  },
  {
   "cell_type": "markdown",
   "metadata": {},
   "source": [
    "# GridSearchCV\n",
    "### From above scores its clear that with LinearRegresion we get max score of upto 79%\n",
    "### Lets use GridSearchCV to test other regression algorithm"
   ]
  },
  {
   "cell_type": "code",
   "execution_count": 171,
   "metadata": {},
   "outputs": [],
   "source": [
    "from sklearn.model_selection import GridSearchCV\n",
    "from sklearn.linear_model import Lasso\n",
    "from sklearn.tree import DecisionTreeRegressor"
   ]
  },
  {
   "cell_type": "code",
   "execution_count": 176,
   "metadata": {},
   "outputs": [
    {
     "data": {
      "text/html": [
       "<div>\n",
       "<style scoped>\n",
       "    .dataframe tbody tr th:only-of-type {\n",
       "        vertical-align: middle;\n",
       "    }\n",
       "\n",
       "    .dataframe tbody tr th {\n",
       "        vertical-align: top;\n",
       "    }\n",
       "\n",
       "    .dataframe thead th {\n",
       "        text-align: right;\n",
       "    }\n",
       "</style>\n",
       "<table border=\"1\" class=\"dataframe\">\n",
       "  <thead>\n",
       "    <tr style=\"text-align: right;\">\n",
       "      <th></th>\n",
       "      <th>model</th>\n",
       "      <th>best_score</th>\n",
       "      <th>best_params</th>\n",
       "    </tr>\n",
       "  </thead>\n",
       "  <tbody>\n",
       "    <tr>\n",
       "      <td>0</td>\n",
       "      <td>linear_regression</td>\n",
       "      <td>0.911502</td>\n",
       "      <td>{'normalize': False}</td>\n",
       "    </tr>\n",
       "    <tr>\n",
       "      <td>1</td>\n",
       "      <td>lasso</td>\n",
       "      <td>0.911442</td>\n",
       "      <td>{'alpha': 1, 'selection': 'random'}</td>\n",
       "    </tr>\n",
       "    <tr>\n",
       "      <td>2</td>\n",
       "      <td>decision_tree</td>\n",
       "      <td>0.897252</td>\n",
       "      <td>{'criterion': 'mse', 'splitter': 'best'}</td>\n",
       "    </tr>\n",
       "  </tbody>\n",
       "</table>\n",
       "</div>"
      ],
      "text/plain": [
       "               model  best_score                               best_params\n",
       "0  linear_regression    0.911502                      {'normalize': False}\n",
       "1              lasso    0.911442       {'alpha': 1, 'selection': 'random'}\n",
       "2      decision_tree    0.897252  {'criterion': 'mse', 'splitter': 'best'}"
      ]
     },
     "execution_count": 176,
     "metadata": {},
     "output_type": "execute_result"
    }
   ],
   "source": [
    "def find_best_model_using_gridsearchcv(X,y):\n",
    "    algos = {\n",
    "        'linear_regression' : {\n",
    "            'model': LinearRegression(),\n",
    "            'params': {\n",
    "                'normalize': [True, False]\n",
    "            }\n",
    "        },\n",
    "        'lasso': {\n",
    "            'model': Lasso(),\n",
    "            'params': {\n",
    "                'alpha': [1,2],\n",
    "                'selection': ['random', 'cyclic']\n",
    "            }\n",
    "        },\n",
    "        'decision_tree': {\n",
    "            'model': DecisionTreeRegressor(),\n",
    "            'params': {\n",
    "                'criterion' : ['mse','friedman_mse'],\n",
    "                'splitter': ['best','random']\n",
    "            }\n",
    "        }\n",
    "    }\n",
    "    scores = []\n",
    "    cv = ShuffleSplit(n_splits=5, test_size=0.2, random_state=0)\n",
    "    for algo_name, config in algos.items():\n",
    "        gs =  GridSearchCV(config['model'], config['params'], cv=cv, return_train_score=False)\n",
    "        gs.fit(X,y)\n",
    "        scores.append({\n",
    "            'model': algo_name,\n",
    "            'best_score': gs.best_score_,\n",
    "            'best_params': gs.best_params_\n",
    "        })\n",
    "    return pd.DataFrame(scores,columns=['model','best_score','best_params'])\n",
    "find_best_model_using_gridsearchcv(X,y)"
   ]
  },
  {
   "cell_type": "code",
   "execution_count": 181,
   "metadata": {},
   "outputs": [],
   "source": [
    "# Test the model for few properties\n",
    "#Since all our locations are now columns in form of dummy variabales, all other dummy variables value should be 0 except the one(dummy variable column for our location) we are predicting for\n",
    "#This(np.where(X.columns==location)[0][0]) code will give us index of dummy column for our location\n",
    "#Now we will assign value '1' to this index and keep all other dummy variable columns as '0'\n",
    "\n",
    "def predict_price(locality, area, bathroom_num, bedroom_num):    \n",
    "    loc_index = np.where(X.columns==locality)[0][0]\n",
    "\n",
    "    x = np.zeros(len(X.columns))\n",
    "    x[0] = area\n",
    "    x[1] = bathroom_num\n",
    "    x[2] = bedroom_num\n",
    "    if loc_index >= 0:\n",
    "        x[loc_index] = 1\n",
    "    return lr_clf.predict([x])[0]\n"
   ]
  },
  {
   "cell_type": "code",
   "execution_count": 185,
   "metadata": {},
   "outputs": [
    {
     "data": {
      "text/plain": [
       "25408.573698195112"
      ]
     },
     "execution_count": 185,
     "metadata": {},
     "output_type": "execute_result"
    }
   ],
   "source": [
    "\n",
    "predict_price('4 Bunglows',700, 2, 2)\n"
   ]
  },
  {
   "cell_type": "code",
   "execution_count": 186,
   "metadata": {},
   "outputs": [
    {
     "data": {
      "text/plain": [
       "23051.40176222429"
      ]
     },
     "execution_count": 186,
     "metadata": {},
     "output_type": "execute_result"
    }
   ],
   "source": [
    "\n",
    "predict_price('Aarey Milk Colony',700, 2, 2)"
   ]
  },
  {
   "cell_type": "code",
   "execution_count": null,
   "metadata": {},
   "outputs": [],
   "source": []
  }
 ],
 "metadata": {
  "kernelspec": {
   "display_name": "Python 3",
   "language": "python",
   "name": "python3"
  },
  "language_info": {
   "codemirror_mode": {
    "name": "ipython",
    "version": 3
   },
   "file_extension": ".py",
   "mimetype": "text/x-python",
   "name": "python",
   "nbconvert_exporter": "python",
   "pygments_lexer": "ipython3",
   "version": "3.7.4"
  }
 },
 "nbformat": 4,
 "nbformat_minor": 2
}
